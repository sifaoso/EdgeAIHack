{
 "cells": [
  {
   "cell_type": "code",
   "id": "initial_id",
   "metadata": {
    "collapsed": true,
    "ExecuteTime": {
     "end_time": "2024-11-22T13:41:23.964653Z",
     "start_time": "2024-11-22T13:41:23.952199Z"
    }
   },
   "source": [
    "from PIL import Image\n",
    "from PIL.ExifTags import TAGS, GPSTAGS\n",
    "\n",
    "def get_exif_data(image_path):\n",
    "    \"\"\"\n",
    "    Récupère les données EXIF de l'image.\n",
    "    \"\"\"\n",
    "    image = Image.open(image_path)\n",
    "    exif_data = image._getexif()\n",
    "    if exif_data:\n",
    "        return {TAGS.get(tag, tag): value for tag, value in exif_data.items()}\n",
    "    return None\n",
    "\n",
    "def get_geotagging(exif):\n",
    "    \"\"\"\n",
    "    Extrait les informations GPS des données EXIF.\n",
    "    \"\"\"\n",
    "    if 'GPSInfo' in exif:\n",
    "        gps_info = exif['GPSInfo']\n",
    "        geotags = {GPSTAGS.get(t, t): gps_info[t] for t in gps_info}\n",
    "        return geotags\n",
    "    return None\n",
    "\n",
    "def get_decimal_coordinates(geotags):\n",
    "    \"\"\"\n",
    "    Convertit les coordonnées GPS EXIF en décimal.\n",
    "    \"\"\"\n",
    "    def convert_to_degrees(value):\n",
    "        d, m, s = value\n",
    "        return d + (m / 60.0) + (s / 3600.0)\n",
    "\n",
    "    lat = convert_to_degrees(geotags['GPSLatitude'])\n",
    "    lon = convert_to_degrees(geotags['GPSLongitude'])\n",
    "\n",
    "    if geotags['GPSLatitudeRef'] != \"N\":\n",
    "        lat = -lat\n",
    "    if geotags['GPSLongitudeRef'] != \"E\":\n",
    "        lon = -lon\n",
    "\n",
    "    return lat, lon\n",
    "\n",
    "# Exemple d'utilisation\n",
    "image_path = \"photo.jpg\"  # Chemin vers la photo\n",
    "exif_data = get_exif_data(image_path)\n",
    "if exif_data:\n",
    "    geotags = get_geotagging(exif_data)\n",
    "    if geotags:\n",
    "        latitude, longitude = get_decimal_coordinates(geotags)\n",
    "        print(f\"Coordonnées GPS : Latitude={latitude}, Longitude={longitude}\")\n",
    "    else:\n",
    "        print(\"Aucune information GPS trouvée dans l'image.\")\n",
    "else:\n",
    "    print(\"Aucune donnée EXIF trouvée.\")"
   ],
   "outputs": [
    {
     "name": "stdout",
     "output_type": "stream",
     "text": [
      "Coordonnées GPS : Latitude=48.87432098361111, Longitude=2.3388557433333337\n"
     ]
    }
   ],
   "execution_count": 27
  },
  {
   "metadata": {
    "ExecuteTime": {
     "end_time": "2024-11-22T13:29:32.484903Z",
     "start_time": "2024-11-22T13:29:30.583957Z"
    }
   },
   "cell_type": "code",
   "source": [
    "import requests\n",
    "\n",
    "def get_places_osm(lat, lon, radius=1000):\n",
    "    \"\"\"\n",
    "    Requête Overpass API pour obtenir des lieux autour d'une position GPS.\n",
    "    \"\"\"\n",
    "    overpass_url = \"http://overpass-api.de/api/interpreter\"\n",
    "    query = f\"\"\"\n",
    "    [out:json];\n",
    "    (\n",
    "      node[\"tourism\"](around:{radius},{lat},{lon});\n",
    "      node[\"amenity\"](around:{radius},{lat},{lon});\n",
    "      node[\"leisure\"](around:{radius},{lat},{lon});\n",
    "    );\n",
    "    out center;\n",
    "    \"\"\"\n",
    "    response = requests.get(overpass_url, params={'data': query})\n",
    "    if response.status_code == 200:\n",
    "        data = response.json()\n",
    "        places = []\n",
    "        for element in data['elements']:\n",
    "            if 'tags' in element and 'name' in element['tags']:\n",
    "                places.append({\n",
    "                    \"name\": element['tags']['name'],\n",
    "                    \"category\": element['tags'].get(\"tourism\", element['tags'].get(\"amenity\", \"unknown\")),\n",
    "                })\n",
    "        return places\n",
    "    else:\n",
    "        raise Exception(f\"Erreur avec Overpass API : {response.status_code}\")\n",
    "\n",
    "# Utilisation\n",
    "#latitude, longitude = 48.8588443, 2.2943506  # Coordonnées GPS (exemple : Tour Eiffel)\n",
    "places = get_places_osm(latitude, longitude, radius=50)\n",
    "for place in places:\n",
    "    print(f\"{place['name']} (Catégorie : {place['category']})\")\n"
   ],
   "id": "c78f000ed445f1e0",
   "outputs": [
    {
     "name": "stdout",
     "output_type": "stream",
     "text": [
      "Mûre (Catégorie : restaurant)\n",
      "Long & Tee (Catégorie : cafe)\n",
      "Mian Fan (Catégorie : restaurant)\n",
      "Mian Fan (Catégorie : restaurant)\n"
     ]
    }
   ],
   "execution_count": 13
  },
  {
   "metadata": {
    "ExecuteTime": {
     "end_time": "2024-11-22T13:42:08.470479Z",
     "start_time": "2024-11-22T13:42:07.929229Z"
    }
   },
   "cell_type": "code",
   "source": [
    "def get_flickr_photos(lat, lon, api_key):\n",
    "    \"\"\"\n",
    "    Requête Flickr API pour obtenir des photos basées sur les coordonnées GPS.\n",
    "    \"\"\"\n",
    "    flickr_url = \"https://www.flickr.com/services/rest/\"\n",
    "    params = {\n",
    "        \"method\": \"flickr.photos.search\",\n",
    "        \"api_key\": api_key,\n",
    "        \"lat\": lat,\n",
    "        \"lon\": lon,\n",
    "        \"format\": \"json\",\n",
    "        \"nojsoncallback\": 1,\n",
    "        \"radius\": 0.02,  # Rayon en km\n",
    "    }\n",
    "    response = requests.get(flickr_url, params=params)\n",
    "    if response.status_code == 200:\n",
    "        data = response.json()\n",
    "        photos = []\n",
    "        for photo in data[\"photos\"][\"photo\"]:\n",
    "            photo_url = f\"https://live.staticflickr.com/{photo['server']}/{photo['id']}_{photo['secret']}.jpg\"\n",
    "            photos.append(photo_url)\n",
    "        return photos\n",
    "    else:\n",
    "        raise Exception(f\"Erreur avec Flickr API : {response.status_code}\")\n",
    "\n",
    "# Exemple d'utilisation\n",
    "flickr_api_key = \"0bb9589f8a2a38cc2f51026e75e4e37f\"\n",
    "photos = get_flickr_photos(latitude, longitude, flickr_api_key)\n",
    "for photo in photos:\n",
    "    print(photo)\n"
   ],
   "id": "e28a93e9f95cd33",
   "outputs": [
    {
     "name": "stdout",
     "output_type": "stream",
     "text": [
      "https://live.staticflickr.com/792/41385154891_8c748a2c76.jpg\n",
      "https://live.staticflickr.com/4724/25286773007_5ee8da4396.jpg\n",
      "https://live.staticflickr.com/8003/7625094868_7571cca18b.jpg\n",
      "https://live.staticflickr.com/7264/7153465613_97841f00c9.jpg\n",
      "https://live.staticflickr.com/2477/5819178085_97b21e6dd1.jpg\n",
      "https://live.staticflickr.com/2500/4110873250_f98b216f62.jpg\n",
      "https://live.staticflickr.com/3030/2999674047_bb4787d76c.jpg\n"
     ]
    }
   ],
   "execution_count": 29
  }
 ],
 "metadata": {
  "kernelspec": {
   "display_name": "Python 3",
   "language": "python",
   "name": "python3"
  },
  "language_info": {
   "codemirror_mode": {
    "name": "ipython",
    "version": 2
   },
   "file_extension": ".py",
   "mimetype": "text/x-python",
   "name": "python",
   "nbconvert_exporter": "python",
   "pygments_lexer": "ipython2",
   "version": "2.7.6"
  }
 },
 "nbformat": 4,
 "nbformat_minor": 5
}

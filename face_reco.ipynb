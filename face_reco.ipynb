{
 "cells": [
  {
   "cell_type": "code",
   "id": "initial_id",
   "metadata": {
    "collapsed": true,
    "ExecuteTime": {
     "end_time": "2024-11-22T23:34:22.060063Z",
     "start_time": "2024-11-22T23:34:01.726776Z"
    }
   },
   "source": [
    "# from deepface import DeepFace\n",
    "#\n",
    "# embedding_objs = DeepFace.represent(\n",
    "#   img_path = \"./contacts_photos/TEST.jpg\",\n",
    "#   detector_backend = \"retinaface\",\n",
    "#   model_name = \"Facenet512\",\n",
    "#   align = 'true',\n",
    "# )"
   ],
   "outputs": [
    {
     "name": "stdout",
     "output_type": "stream",
     "text": [
      "24-11-23 00:34:05 - retinaface.h5 will be downloaded from the url https://github.com/serengil/deepface_models/releases/download/v1.0/retinaface.h5\n"
     ]
    },
    {
     "name": "stderr",
     "output_type": "stream",
     "text": [
      "Downloading...\n",
      "From: https://github.com/serengil/deepface_models/releases/download/v1.0/retinaface.h5\n",
      "To: C:\\Users\\minit\\.deepface\\weights\\retinaface.h5\n",
      "100%|██████████| 119M/119M [00:08<00:00, 13.7MB/s] \n"
     ]
    }
   ],
   "execution_count": 2
  },
  {
   "metadata": {
    "ExecuteTime": {
     "end_time": "2024-11-23T01:46:22.967235Z",
     "start_time": "2024-11-23T01:46:16.081429Z"
    }
   },
   "cell_type": "code",
   "source": [
    "# print(embedding_objs)\n",
    "import tensorflow as tf\n",
    "import keras\n",
    "import deepface\n",
    "from onnxruntime.transformers.shape_infer_helper import file_path\n",
    "\n",
    "print(\"TensorFlow version:\", tf.__version__)\n",
    "print(\"Keras version:\", keras.__version__)\n",
    "print(\"DeepFace version:\", deepface.__version__)"
   ],
   "id": "4429716cef0f335",
   "outputs": [
    {
     "name": "stdout",
     "output_type": "stream",
     "text": [
      "TensorFlow version: 2.9.1\n",
      "Keras version: 2.9.0\n",
      "DeepFace version: 0.0.93\n"
     ]
    }
   ],
   "execution_count": 1
  },
  {
   "metadata": {
    "ExecuteTime": {
     "end_time": "2024-11-23T00:14:36.027823Z",
     "start_time": "2024-11-23T00:14:28.630834Z"
    }
   },
   "cell_type": "code",
   "source": [
    "from deepface import DeepFace\n",
    "\n",
    "# Chemins des images\n",
    "image1_path = \"./contacts_photos/Jerem.jpg\"\n",
    "image2_path = \"./contacts_photos/TEST2.jpg\"\n",
    "\n",
    "# Comparaison des images\n",
    "result = DeepFace.verify(image1_path, image2_path, model_name='Facenet512', detector_backend='retinaface', align=True,\n",
    "                         threshold=0.5)\n",
    "\n",
    "# Résultat\n",
    "print(\"Sont-elles la même personne ? :\", result[\"verified\"])\n",
    "print(\"Distance :\", result[\"distance\"])\n",
    "print(\"Détail :\", result)"
   ],
   "id": "73d4f80b9bde51c1",
   "outputs": [
    {
     "name": "stdout",
     "output_type": "stream",
     "text": [
      "Sont-elles la même personne ? : True\n",
      "Distance : 0.3291650681964142\n",
      "Détail : {'verified': True, 'distance': 0.3291650681964142, 'threshold': 0.5, 'model': 'Facenet512', 'detector_backend': 'retinaface', 'similarity_metric': 'cosine', 'facial_areas': {'img1': {'x': 777, 'y': 376, 'w': 202, 'h': 232, 'left_eye': (930, 455), 'right_eye': (836, 460)}, 'img2': {'x': 526, 'y': 359, 'w': 213, 'h': 259, 'left_eye': (690, 446), 'right_eye': (590, 447)}}, 'time': 7.39}\n"
     ]
    }
   ],
   "execution_count": 9
  },
  {
   "metadata": {
    "ExecuteTime": {
     "end_time": "2024-11-23T00:19:20.284453Z",
     "start_time": "2024-11-23T00:19:15.276589Z"
    }
   },
   "cell_type": "code",
   "source": [
    "from deepface import DeepFace\n",
    "\n",
    "# Chemins des images\n",
    "image1_path = \"./CelebrityFacesDataset/Angelina Jolie/001_fe3347c0.jpg\"\n",
    "image2_path = \"./CelebrityFacesDataset/Angelina Jolie/016_8945d6ca.jpg\"\n",
    "\n",
    "# Comparaison des images\n",
    "result = DeepFace.verify(image1_path, image2_path, model_name='Facenet512', detector_backend='retinaface', align=True,\n",
    "                         threshold=0.5)\n",
    "\n",
    "# Résultat\n",
    "print(\"Sont-elles la même personne ? :\", result[\"verified\"])\n",
    "print(\"Distance :\", result[\"distance\"])\n",
    "print(\"Détail :\", result)"
   ],
   "id": "8fb09428f39b00b7",
   "outputs": [
    {
     "name": "stdout",
     "output_type": "stream",
     "text": [
      "Sont-elles la même personne ? : True\n",
      "Distance : 0.1506341861457421\n",
      "Détail : {'verified': True, 'distance': 0.1506341861457421, 'threshold': 0.5, 'model': 'Facenet512', 'detector_backend': 'retinaface', 'similarity_metric': 'cosine', 'facial_areas': {'img1': {'x': 113, 'y': 98, 'w': 218, 'h': 307, 'left_eye': (265, 236), 'right_eye': (165, 218)}, 'img2': {'x': 129, 'y': 84, 'w': 184, 'h': 263, 'left_eye': (251, 195), 'right_eye': (166, 191)}}, 'time': 4.99}\n"
     ]
    }
   ],
   "execution_count": 10
  },
  {
   "metadata": {
    "ExecuteTime": {
     "end_time": "2024-11-23T00:48:14.570952Z",
     "start_time": "2024-11-23T00:30:37.410890Z"
    }
   },
   "cell_type": "code",
   "source": [
    "import os\n",
    "from itertools import combinations\n",
    "from deepface import DeepFace\n",
    "\n",
    "# Chemin vers le dataset\n",
    "dataset_path = \"./CelebrityFacesDataset\"\n",
    "\n",
    "# Paramètres du modèle\n",
    "model_name = 'Facenet512'\n",
    "detector_backend = 'retinaface'\n",
    "threshold = 0.5\n",
    "\n",
    "# Variables pour les résultats\n",
    "true_positives = 0\n",
    "false_positives = 0\n",
    "true_negatives = 0\n",
    "false_negatives = 0\n",
    "\n",
    "# Liste des personnes (sous-dossiers)\n",
    "persons = [d for d in os.listdir(dataset_path) if os.path.isdir(os.path.join(dataset_path, d))]\n",
    "\n",
    "# Comparaison intra-personne (mêmes images)\n",
    "for person in persons:\n",
    "    person_folder = os.path.join(dataset_path, person)\n",
    "    images = [os.path.join(person_folder, f) for f in os.listdir(person_folder) if f.endswith(('.jpg', '.png'))]\n",
    "\n",
    "    # Crée des paires d'images dans le même dossier\n",
    "    for img1, img2 in combinations(images, 2):\n",
    "        result = DeepFace.verify(img1, img2, model_name=model_name, detector_backend=detector_backend, align=True,\n",
    "                                 threshold=threshold)\n",
    "        if result[\"verified\"]:\n",
    "            true_positives += 1\n",
    "        else:\n",
    "            false_negatives += 1\n",
    "\n",
    "# Comparaison inter-personnes (images différentes)\n",
    "for person1, person2 in combinations(persons, 2):\n",
    "    person1_folder = os.path.join(dataset_path, person1)\n",
    "    person2_folder = os.path.join(dataset_path, person2)\n",
    "\n",
    "    images1 = [os.path.join(person1_folder, f) for f in os.listdir(person1_folder) if f.endswith(('.jpg', '.png'))]\n",
    "    images2 = [os.path.join(person2_folder, f) for f in os.listdir(person2_folder) if f.endswith(('.jpg', '.png'))]\n",
    "\n",
    "    # Compare une image de person1 avec une image de person2\n",
    "    for img1 in images1:\n",
    "        for img2 in images2:\n",
    "            result = DeepFace.verify(img1, img2, model_name=model_name, detector_backend=detector_backend, align=True,\n",
    "                                     threshold=threshold)\n",
    "            if result[\"verified\"]:\n",
    "                false_positives += 1\n",
    "            else:\n",
    "                true_negatives += 1\n",
    "\n",
    "# Calcul des métriques\n",
    "total_positives = true_positives + false_negatives\n",
    "total_negatives = true_negatives + false_positives\n",
    "\n",
    "accuracy = (true_positives + true_negatives) / (total_positives + total_negatives)\n",
    "precision = true_positives / (true_positives + false_positives) if (true_positives + false_positives) > 0 else 0\n",
    "recall = true_positives / (true_positives + false_negatives) if (true_positives + false_negatives) > 0 else 0\n",
    "f1_score = 2 * (precision * recall) / (precision + recall) if (precision + recall) > 0 else 0\n",
    "\n",
    "# Résultats\n",
    "print(\"Résultats du test :\")\n",
    "print(f\"True Positives : {true_positives}\")\n",
    "print(f\"False Positives : {false_positives}\")\n",
    "print(f\"True Negatives : {true_negatives}\")\n",
    "print(f\"False Negatives : {false_negatives}\")\n",
    "print(f\"Accuracy : {accuracy:.2f}\")\n",
    "print(f\"Precision : {precision:.2f}\")\n",
    "print(f\"Recall : {recall:.2f}\")\n",
    "print(f\"F1 Score : {f1_score:.2f}\")\n"
   ],
   "id": "36249384643e8804",
   "outputs": [
    {
     "ename": "KeyboardInterrupt",
     "evalue": "",
     "output_type": "error",
     "traceback": [
      "\u001B[1;31m---------------------------------------------------------------------------\u001B[0m",
      "\u001B[1;31mKeyboardInterrupt\u001B[0m                         Traceback (most recent call last)",
      "Cell \u001B[1;32mIn[11], line 29\u001B[0m\n\u001B[0;32m     27\u001B[0m \u001B[38;5;66;03m# Crée des paires d'images dans le même dossier\u001B[39;00m\n\u001B[0;32m     28\u001B[0m \u001B[38;5;28;01mfor\u001B[39;00m img1, img2 \u001B[38;5;129;01min\u001B[39;00m combinations(images, \u001B[38;5;241m2\u001B[39m):\n\u001B[1;32m---> 29\u001B[0m     result \u001B[38;5;241m=\u001B[39m \u001B[43mDeepFace\u001B[49m\u001B[38;5;241;43m.\u001B[39;49m\u001B[43mverify\u001B[49m\u001B[43m(\u001B[49m\u001B[43mimg1\u001B[49m\u001B[43m,\u001B[49m\u001B[43m \u001B[49m\u001B[43mimg2\u001B[49m\u001B[43m,\u001B[49m\u001B[43m \u001B[49m\u001B[43mmodel_name\u001B[49m\u001B[38;5;241;43m=\u001B[39;49m\u001B[43mmodel_name\u001B[49m\u001B[43m,\u001B[49m\u001B[43m \u001B[49m\u001B[43mdetector_backend\u001B[49m\u001B[38;5;241;43m=\u001B[39;49m\u001B[43mdetector_backend\u001B[49m\u001B[43m,\u001B[49m\u001B[43m \u001B[49m\u001B[43malign\u001B[49m\u001B[38;5;241;43m=\u001B[39;49m\u001B[38;5;28;43;01mTrue\u001B[39;49;00m\u001B[43m,\u001B[49m\u001B[43m \u001B[49m\u001B[43mthreshold\u001B[49m\u001B[38;5;241;43m=\u001B[39;49m\u001B[43mthreshold\u001B[49m\u001B[43m)\u001B[49m\n\u001B[0;32m     30\u001B[0m     \u001B[38;5;28;01mif\u001B[39;00m result[\u001B[38;5;124m\"\u001B[39m\u001B[38;5;124mverified\u001B[39m\u001B[38;5;124m\"\u001B[39m]:\n\u001B[0;32m     31\u001B[0m         true_positives \u001B[38;5;241m+\u001B[39m\u001B[38;5;241m=\u001B[39m \u001B[38;5;241m1\u001B[39m\n",
      "File \u001B[1;32m~\\AppData\\Local\\Programs\\Python\\Python39\\lib\\site-packages\\deepface\\DeepFace.py:150\u001B[0m, in \u001B[0;36mverify\u001B[1;34m(img1_path, img2_path, model_name, detector_backend, distance_metric, enforce_detection, align, expand_percentage, normalization, silent, threshold, anti_spoofing)\u001B[0m\n\u001B[0;32m     70\u001B[0m \u001B[38;5;28;01mdef\u001B[39;00m \u001B[38;5;21mverify\u001B[39m(\n\u001B[0;32m     71\u001B[0m     img1_path: Union[\u001B[38;5;28mstr\u001B[39m, np\u001B[38;5;241m.\u001B[39mndarray, List[\u001B[38;5;28mfloat\u001B[39m]],\n\u001B[0;32m     72\u001B[0m     img2_path: Union[\u001B[38;5;28mstr\u001B[39m, np\u001B[38;5;241m.\u001B[39mndarray, List[\u001B[38;5;28mfloat\u001B[39m]],\n\u001B[1;32m   (...)\u001B[0m\n\u001B[0;32m     82\u001B[0m     anti_spoofing: \u001B[38;5;28mbool\u001B[39m \u001B[38;5;241m=\u001B[39m \u001B[38;5;28;01mFalse\u001B[39;00m,\n\u001B[0;32m     83\u001B[0m ) \u001B[38;5;241m-\u001B[39m\u001B[38;5;241m>\u001B[39m Dict[\u001B[38;5;28mstr\u001B[39m, Any]:\n\u001B[0;32m     84\u001B[0m \u001B[38;5;250m    \u001B[39m\u001B[38;5;124;03m\"\"\"\u001B[39;00m\n\u001B[0;32m     85\u001B[0m \u001B[38;5;124;03m    Verify if an image pair represents the same person or different persons.\u001B[39;00m\n\u001B[0;32m     86\u001B[0m \u001B[38;5;124;03m    Args:\u001B[39;00m\n\u001B[1;32m   (...)\u001B[0m\n\u001B[0;32m    147\u001B[0m \u001B[38;5;124;03m        - 'time' (float): Time taken for the verification process in seconds.\u001B[39;00m\n\u001B[0;32m    148\u001B[0m \u001B[38;5;124;03m    \"\"\"\u001B[39;00m\n\u001B[1;32m--> 150\u001B[0m     \u001B[38;5;28;01mreturn\u001B[39;00m \u001B[43mverification\u001B[49m\u001B[38;5;241;43m.\u001B[39;49m\u001B[43mverify\u001B[49m\u001B[43m(\u001B[49m\n\u001B[0;32m    151\u001B[0m \u001B[43m        \u001B[49m\u001B[43mimg1_path\u001B[49m\u001B[38;5;241;43m=\u001B[39;49m\u001B[43mimg1_path\u001B[49m\u001B[43m,\u001B[49m\n\u001B[0;32m    152\u001B[0m \u001B[43m        \u001B[49m\u001B[43mimg2_path\u001B[49m\u001B[38;5;241;43m=\u001B[39;49m\u001B[43mimg2_path\u001B[49m\u001B[43m,\u001B[49m\n\u001B[0;32m    153\u001B[0m \u001B[43m        \u001B[49m\u001B[43mmodel_name\u001B[49m\u001B[38;5;241;43m=\u001B[39;49m\u001B[43mmodel_name\u001B[49m\u001B[43m,\u001B[49m\n\u001B[0;32m    154\u001B[0m \u001B[43m        \u001B[49m\u001B[43mdetector_backend\u001B[49m\u001B[38;5;241;43m=\u001B[39;49m\u001B[43mdetector_backend\u001B[49m\u001B[43m,\u001B[49m\n\u001B[0;32m    155\u001B[0m \u001B[43m        \u001B[49m\u001B[43mdistance_metric\u001B[49m\u001B[38;5;241;43m=\u001B[39;49m\u001B[43mdistance_metric\u001B[49m\u001B[43m,\u001B[49m\n\u001B[0;32m    156\u001B[0m \u001B[43m        \u001B[49m\u001B[43menforce_detection\u001B[49m\u001B[38;5;241;43m=\u001B[39;49m\u001B[43menforce_detection\u001B[49m\u001B[43m,\u001B[49m\n\u001B[0;32m    157\u001B[0m \u001B[43m        \u001B[49m\u001B[43malign\u001B[49m\u001B[38;5;241;43m=\u001B[39;49m\u001B[43malign\u001B[49m\u001B[43m,\u001B[49m\n\u001B[0;32m    158\u001B[0m \u001B[43m        \u001B[49m\u001B[43mexpand_percentage\u001B[49m\u001B[38;5;241;43m=\u001B[39;49m\u001B[43mexpand_percentage\u001B[49m\u001B[43m,\u001B[49m\n\u001B[0;32m    159\u001B[0m \u001B[43m        \u001B[49m\u001B[43mnormalization\u001B[49m\u001B[38;5;241;43m=\u001B[39;49m\u001B[43mnormalization\u001B[49m\u001B[43m,\u001B[49m\n\u001B[0;32m    160\u001B[0m \u001B[43m        \u001B[49m\u001B[43msilent\u001B[49m\u001B[38;5;241;43m=\u001B[39;49m\u001B[43msilent\u001B[49m\u001B[43m,\u001B[49m\n\u001B[0;32m    161\u001B[0m \u001B[43m        \u001B[49m\u001B[43mthreshold\u001B[49m\u001B[38;5;241;43m=\u001B[39;49m\u001B[43mthreshold\u001B[49m\u001B[43m,\u001B[49m\n\u001B[0;32m    162\u001B[0m \u001B[43m        \u001B[49m\u001B[43manti_spoofing\u001B[49m\u001B[38;5;241;43m=\u001B[39;49m\u001B[43manti_spoofing\u001B[49m\u001B[43m,\u001B[49m\n\u001B[0;32m    163\u001B[0m \u001B[43m    \u001B[49m\u001B[43m)\u001B[49m\n",
      "File \u001B[1;32m~\\AppData\\Local\\Programs\\Python\\Python39\\lib\\site-packages\\deepface\\modules\\verification.py:182\u001B[0m, in \u001B[0;36mverify\u001B[1;34m(img1_path, img2_path, model_name, detector_backend, distance_metric, enforce_detection, align, expand_percentage, normalization, silent, threshold, anti_spoofing)\u001B[0m\n\u001B[0;32m    179\u001B[0m     \u001B[38;5;28;01mreturn\u001B[39;00m img_embeddings, img_facial_areas\n\u001B[0;32m    181\u001B[0m img1_embeddings, img1_facial_areas \u001B[38;5;241m=\u001B[39m extract_embeddings_and_facial_areas(img1_path, \u001B[38;5;241m1\u001B[39m)\n\u001B[1;32m--> 182\u001B[0m img2_embeddings, img2_facial_areas \u001B[38;5;241m=\u001B[39m \u001B[43mextract_embeddings_and_facial_areas\u001B[49m\u001B[43m(\u001B[49m\u001B[43mimg2_path\u001B[49m\u001B[43m,\u001B[49m\u001B[43m \u001B[49m\u001B[38;5;241;43m2\u001B[39;49m\u001B[43m)\u001B[49m\n\u001B[0;32m    184\u001B[0m min_distance, min_idx, min_idy \u001B[38;5;241m=\u001B[39m \u001B[38;5;28mfloat\u001B[39m(\u001B[38;5;124m\"\u001B[39m\u001B[38;5;124minf\u001B[39m\u001B[38;5;124m\"\u001B[39m), \u001B[38;5;28;01mNone\u001B[39;00m, \u001B[38;5;28;01mNone\u001B[39;00m\n\u001B[0;32m    185\u001B[0m \u001B[38;5;28;01mfor\u001B[39;00m idx, img1_embedding \u001B[38;5;129;01min\u001B[39;00m \u001B[38;5;28menumerate\u001B[39m(img1_embeddings):\n",
      "File \u001B[1;32m~\\AppData\\Local\\Programs\\Python\\Python39\\lib\\site-packages\\deepface\\modules\\verification.py:167\u001B[0m, in \u001B[0;36mverify.<locals>.extract_embeddings_and_facial_areas\u001B[1;34m(img_path, index)\u001B[0m\n\u001B[0;32m    165\u001B[0m \u001B[38;5;28;01melse\u001B[39;00m:\n\u001B[0;32m    166\u001B[0m     \u001B[38;5;28;01mtry\u001B[39;00m:\n\u001B[1;32m--> 167\u001B[0m         img_embeddings, img_facial_areas \u001B[38;5;241m=\u001B[39m \u001B[43m__extract_faces_and_embeddings\u001B[49m\u001B[43m(\u001B[49m\n\u001B[0;32m    168\u001B[0m \u001B[43m            \u001B[49m\u001B[43mimg_path\u001B[49m\u001B[38;5;241;43m=\u001B[39;49m\u001B[43mimg_path\u001B[49m\u001B[43m,\u001B[49m\n\u001B[0;32m    169\u001B[0m \u001B[43m            \u001B[49m\u001B[43mmodel_name\u001B[49m\u001B[38;5;241;43m=\u001B[39;49m\u001B[43mmodel_name\u001B[49m\u001B[43m,\u001B[49m\n\u001B[0;32m    170\u001B[0m \u001B[43m            \u001B[49m\u001B[43mdetector_backend\u001B[49m\u001B[38;5;241;43m=\u001B[39;49m\u001B[43mdetector_backend\u001B[49m\u001B[43m,\u001B[49m\n\u001B[0;32m    171\u001B[0m \u001B[43m            \u001B[49m\u001B[43menforce_detection\u001B[49m\u001B[38;5;241;43m=\u001B[39;49m\u001B[43menforce_detection\u001B[49m\u001B[43m,\u001B[49m\n\u001B[0;32m    172\u001B[0m \u001B[43m            \u001B[49m\u001B[43malign\u001B[49m\u001B[38;5;241;43m=\u001B[39;49m\u001B[43malign\u001B[49m\u001B[43m,\u001B[49m\n\u001B[0;32m    173\u001B[0m \u001B[43m            \u001B[49m\u001B[43mexpand_percentage\u001B[49m\u001B[38;5;241;43m=\u001B[39;49m\u001B[43mexpand_percentage\u001B[49m\u001B[43m,\u001B[49m\n\u001B[0;32m    174\u001B[0m \u001B[43m            \u001B[49m\u001B[43mnormalization\u001B[49m\u001B[38;5;241;43m=\u001B[39;49m\u001B[43mnormalization\u001B[49m\u001B[43m,\u001B[49m\n\u001B[0;32m    175\u001B[0m \u001B[43m            \u001B[49m\u001B[43manti_spoofing\u001B[49m\u001B[38;5;241;43m=\u001B[39;49m\u001B[43manti_spoofing\u001B[49m\u001B[43m,\u001B[49m\n\u001B[0;32m    176\u001B[0m \u001B[43m        \u001B[49m\u001B[43m)\u001B[49m\n\u001B[0;32m    177\u001B[0m     \u001B[38;5;28;01mexcept\u001B[39;00m \u001B[38;5;167;01mValueError\u001B[39;00m \u001B[38;5;28;01mas\u001B[39;00m err:\n\u001B[0;32m    178\u001B[0m         \u001B[38;5;28;01mraise\u001B[39;00m \u001B[38;5;167;01mValueError\u001B[39;00m(\u001B[38;5;124mf\u001B[39m\u001B[38;5;124m\"\u001B[39m\u001B[38;5;124mException while processing img\u001B[39m\u001B[38;5;132;01m{\u001B[39;00mindex\u001B[38;5;132;01m}\u001B[39;00m\u001B[38;5;124m_path\u001B[39m\u001B[38;5;124m\"\u001B[39m) \u001B[38;5;28;01mfrom\u001B[39;00m \u001B[38;5;21;01merr\u001B[39;00m\n",
      "File \u001B[1;32m~\\AppData\\Local\\Programs\\Python\\Python39\\lib\\site-packages\\deepface\\modules\\verification.py:234\u001B[0m, in \u001B[0;36m__extract_faces_and_embeddings\u001B[1;34m(img_path, model_name, detector_backend, enforce_detection, align, expand_percentage, normalization, anti_spoofing)\u001B[0m\n\u001B[0;32m    231\u001B[0m embeddings \u001B[38;5;241m=\u001B[39m []\n\u001B[0;32m    232\u001B[0m facial_areas \u001B[38;5;241m=\u001B[39m []\n\u001B[1;32m--> 234\u001B[0m img_objs \u001B[38;5;241m=\u001B[39m \u001B[43mdetection\u001B[49m\u001B[38;5;241;43m.\u001B[39;49m\u001B[43mextract_faces\u001B[49m\u001B[43m(\u001B[49m\n\u001B[0;32m    235\u001B[0m \u001B[43m    \u001B[49m\u001B[43mimg_path\u001B[49m\u001B[38;5;241;43m=\u001B[39;49m\u001B[43mimg_path\u001B[49m\u001B[43m,\u001B[49m\n\u001B[0;32m    236\u001B[0m \u001B[43m    \u001B[49m\u001B[43mdetector_backend\u001B[49m\u001B[38;5;241;43m=\u001B[39;49m\u001B[43mdetector_backend\u001B[49m\u001B[43m,\u001B[49m\n\u001B[0;32m    237\u001B[0m \u001B[43m    \u001B[49m\u001B[43mgrayscale\u001B[49m\u001B[38;5;241;43m=\u001B[39;49m\u001B[38;5;28;43;01mFalse\u001B[39;49;00m\u001B[43m,\u001B[49m\n\u001B[0;32m    238\u001B[0m \u001B[43m    \u001B[49m\u001B[43menforce_detection\u001B[49m\u001B[38;5;241;43m=\u001B[39;49m\u001B[43menforce_detection\u001B[49m\u001B[43m,\u001B[49m\n\u001B[0;32m    239\u001B[0m \u001B[43m    \u001B[49m\u001B[43malign\u001B[49m\u001B[38;5;241;43m=\u001B[39;49m\u001B[43malign\u001B[49m\u001B[43m,\u001B[49m\n\u001B[0;32m    240\u001B[0m \u001B[43m    \u001B[49m\u001B[43mexpand_percentage\u001B[49m\u001B[38;5;241;43m=\u001B[39;49m\u001B[43mexpand_percentage\u001B[49m\u001B[43m,\u001B[49m\n\u001B[0;32m    241\u001B[0m \u001B[43m    \u001B[49m\u001B[43manti_spoofing\u001B[49m\u001B[38;5;241;43m=\u001B[39;49m\u001B[43manti_spoofing\u001B[49m\u001B[43m,\u001B[49m\n\u001B[0;32m    242\u001B[0m \u001B[43m\u001B[49m\u001B[43m)\u001B[49m\n\u001B[0;32m    244\u001B[0m \u001B[38;5;66;03m# find embeddings for each face\u001B[39;00m\n\u001B[0;32m    245\u001B[0m \u001B[38;5;28;01mfor\u001B[39;00m img_obj \u001B[38;5;129;01min\u001B[39;00m img_objs:\n",
      "File \u001B[1;32m~\\AppData\\Local\\Programs\\Python\\Python39\\lib\\site-packages\\deepface\\modules\\detection.py:95\u001B[0m, in \u001B[0;36mextract_faces\u001B[1;34m(img_path, detector_backend, enforce_detection, align, expand_percentage, grayscale, color_face, normalize_face, anti_spoofing)\u001B[0m\n\u001B[0;32m     93\u001B[0m     face_objs \u001B[38;5;241m=\u001B[39m [DetectedFace(img\u001B[38;5;241m=\u001B[39mimg, facial_area\u001B[38;5;241m=\u001B[39mbase_region, confidence\u001B[38;5;241m=\u001B[39m\u001B[38;5;241m0\u001B[39m)]\n\u001B[0;32m     94\u001B[0m \u001B[38;5;28;01melse\u001B[39;00m:\n\u001B[1;32m---> 95\u001B[0m     face_objs \u001B[38;5;241m=\u001B[39m \u001B[43mdetect_faces\u001B[49m\u001B[43m(\u001B[49m\n\u001B[0;32m     96\u001B[0m \u001B[43m        \u001B[49m\u001B[43mdetector_backend\u001B[49m\u001B[38;5;241;43m=\u001B[39;49m\u001B[43mdetector_backend\u001B[49m\u001B[43m,\u001B[49m\n\u001B[0;32m     97\u001B[0m \u001B[43m        \u001B[49m\u001B[43mimg\u001B[49m\u001B[38;5;241;43m=\u001B[39;49m\u001B[43mimg\u001B[49m\u001B[43m,\u001B[49m\n\u001B[0;32m     98\u001B[0m \u001B[43m        \u001B[49m\u001B[43malign\u001B[49m\u001B[38;5;241;43m=\u001B[39;49m\u001B[43malign\u001B[49m\u001B[43m,\u001B[49m\n\u001B[0;32m     99\u001B[0m \u001B[43m        \u001B[49m\u001B[43mexpand_percentage\u001B[49m\u001B[38;5;241;43m=\u001B[39;49m\u001B[43mexpand_percentage\u001B[49m\u001B[43m,\u001B[49m\n\u001B[0;32m    100\u001B[0m \u001B[43m    \u001B[49m\u001B[43m)\u001B[49m\n\u001B[0;32m    102\u001B[0m \u001B[38;5;66;03m# in case of no face found\u001B[39;00m\n\u001B[0;32m    103\u001B[0m \u001B[38;5;28;01mif\u001B[39;00m \u001B[38;5;28mlen\u001B[39m(face_objs) \u001B[38;5;241m==\u001B[39m \u001B[38;5;241m0\u001B[39m \u001B[38;5;129;01mand\u001B[39;00m enforce_detection \u001B[38;5;129;01mis\u001B[39;00m \u001B[38;5;28;01mTrue\u001B[39;00m:\n",
      "File \u001B[1;32m~\\AppData\\Local\\Programs\\Python\\Python39\\lib\\site-packages\\deepface\\modules\\detection.py:234\u001B[0m, in \u001B[0;36mdetect_faces\u001B[1;34m(detector_backend, img, align, expand_percentage)\u001B[0m\n\u001B[0;32m    223\u001B[0m     img \u001B[38;5;241m=\u001B[39m cv2\u001B[38;5;241m.\u001B[39mcopyMakeBorder(\n\u001B[0;32m    224\u001B[0m         img,\n\u001B[0;32m    225\u001B[0m         height_border,\n\u001B[1;32m   (...)\u001B[0m\n\u001B[0;32m    230\u001B[0m         value\u001B[38;5;241m=\u001B[39m[\u001B[38;5;241m0\u001B[39m, \u001B[38;5;241m0\u001B[39m, \u001B[38;5;241m0\u001B[39m],  \u001B[38;5;66;03m# Color of the border (black)\u001B[39;00m\n\u001B[0;32m    231\u001B[0m     )\n\u001B[0;32m    233\u001B[0m \u001B[38;5;66;03m# find facial areas of given image\u001B[39;00m\n\u001B[1;32m--> 234\u001B[0m facial_areas \u001B[38;5;241m=\u001B[39m \u001B[43mface_detector\u001B[49m\u001B[38;5;241;43m.\u001B[39;49m\u001B[43mdetect_faces\u001B[49m\u001B[43m(\u001B[49m\u001B[43mimg\u001B[49m\u001B[43m)\u001B[49m\n\u001B[0;32m    236\u001B[0m results \u001B[38;5;241m=\u001B[39m []\n\u001B[0;32m    237\u001B[0m \u001B[38;5;28;01mfor\u001B[39;00m facial_area \u001B[38;5;129;01min\u001B[39;00m facial_areas:\n",
      "File \u001B[1;32m~\\AppData\\Local\\Programs\\Python\\Python39\\lib\\site-packages\\deepface\\models\\face_detection\\RetinaFace.py:23\u001B[0m, in \u001B[0;36mRetinaFaceClient.detect_faces\u001B[1;34m(self, img)\u001B[0m\n\u001B[0;32m     12\u001B[0m \u001B[38;5;250m\u001B[39m\u001B[38;5;124;03m\"\"\"\u001B[39;00m\n\u001B[0;32m     13\u001B[0m \u001B[38;5;124;03mDetect and align face with retinaface\u001B[39;00m\n\u001B[0;32m     14\u001B[0m \n\u001B[1;32m   (...)\u001B[0m\n\u001B[0;32m     19\u001B[0m \u001B[38;5;124;03m    results (List[FacialAreaRegion]): A list of FacialAreaRegion objects\u001B[39;00m\n\u001B[0;32m     20\u001B[0m \u001B[38;5;124;03m\"\"\"\u001B[39;00m\n\u001B[0;32m     21\u001B[0m resp \u001B[38;5;241m=\u001B[39m []\n\u001B[1;32m---> 23\u001B[0m obj \u001B[38;5;241m=\u001B[39m \u001B[43mrf\u001B[49m\u001B[38;5;241;43m.\u001B[39;49m\u001B[43mdetect_faces\u001B[49m\u001B[43m(\u001B[49m\u001B[43mimg\u001B[49m\u001B[43m,\u001B[49m\u001B[43m \u001B[49m\u001B[43mmodel\u001B[49m\u001B[38;5;241;43m=\u001B[39;49m\u001B[38;5;28;43mself\u001B[39;49m\u001B[38;5;241;43m.\u001B[39;49m\u001B[43mmodel\u001B[49m\u001B[43m,\u001B[49m\u001B[43m \u001B[49m\u001B[43mthreshold\u001B[49m\u001B[38;5;241;43m=\u001B[39;49m\u001B[38;5;241;43m0.9\u001B[39;49m\u001B[43m)\u001B[49m\n\u001B[0;32m     25\u001B[0m \u001B[38;5;28;01mif\u001B[39;00m \u001B[38;5;129;01mnot\u001B[39;00m \u001B[38;5;28misinstance\u001B[39m(obj, \u001B[38;5;28mdict\u001B[39m):\n\u001B[0;32m     26\u001B[0m     \u001B[38;5;28;01mreturn\u001B[39;00m resp\n",
      "File \u001B[1;32m~\\AppData\\Local\\Programs\\Python\\Python39\\lib\\site-packages\\retinaface\\RetinaFace.py:123\u001B[0m, in \u001B[0;36mdetect_faces\u001B[1;34m(img_path, threshold, model, allow_upscaling)\u001B[0m\n\u001B[0;32m    121\u001B[0m landmarks_list \u001B[38;5;241m=\u001B[39m []\n\u001B[0;32m    122\u001B[0m im_tensor, im_info, im_scale \u001B[38;5;241m=\u001B[39m preprocess\u001B[38;5;241m.\u001B[39mpreprocess_image(img, allow_upscaling)\n\u001B[1;32m--> 123\u001B[0m net_out \u001B[38;5;241m=\u001B[39m \u001B[43mmodel\u001B[49m\u001B[43m(\u001B[49m\u001B[43mim_tensor\u001B[49m\u001B[43m)\u001B[49m\n\u001B[0;32m    124\u001B[0m net_out \u001B[38;5;241m=\u001B[39m [elt\u001B[38;5;241m.\u001B[39mnumpy() \u001B[38;5;28;01mfor\u001B[39;00m elt \u001B[38;5;129;01min\u001B[39;00m net_out]\n\u001B[0;32m    125\u001B[0m sym_idx \u001B[38;5;241m=\u001B[39m \u001B[38;5;241m0\u001B[39m\n",
      "File \u001B[1;32m~\\AppData\\Local\\Programs\\Python\\Python39\\lib\\site-packages\\tensorflow\\python\\util\\traceback_utils.py:150\u001B[0m, in \u001B[0;36mfilter_traceback.<locals>.error_handler\u001B[1;34m(*args, **kwargs)\u001B[0m\n\u001B[0;32m    148\u001B[0m filtered_tb \u001B[38;5;241m=\u001B[39m \u001B[38;5;28;01mNone\u001B[39;00m\n\u001B[0;32m    149\u001B[0m \u001B[38;5;28;01mtry\u001B[39;00m:\n\u001B[1;32m--> 150\u001B[0m   \u001B[38;5;28;01mreturn\u001B[39;00m fn(\u001B[38;5;241m*\u001B[39margs, \u001B[38;5;241m*\u001B[39m\u001B[38;5;241m*\u001B[39mkwargs)\n\u001B[0;32m    151\u001B[0m \u001B[38;5;28;01mexcept\u001B[39;00m \u001B[38;5;167;01mException\u001B[39;00m \u001B[38;5;28;01mas\u001B[39;00m e:\n\u001B[0;32m    152\u001B[0m   filtered_tb \u001B[38;5;241m=\u001B[39m _process_traceback_frames(e\u001B[38;5;241m.\u001B[39m__traceback__)\n",
      "File \u001B[1;32m~\\AppData\\Local\\Programs\\Python\\Python39\\lib\\site-packages\\tensorflow\\python\\eager\\def_function.py:915\u001B[0m, in \u001B[0;36mFunction.__call__\u001B[1;34m(self, *args, **kwds)\u001B[0m\n\u001B[0;32m    912\u001B[0m compiler \u001B[38;5;241m=\u001B[39m \u001B[38;5;124m\"\u001B[39m\u001B[38;5;124mxla\u001B[39m\u001B[38;5;124m\"\u001B[39m \u001B[38;5;28;01mif\u001B[39;00m \u001B[38;5;28mself\u001B[39m\u001B[38;5;241m.\u001B[39m_jit_compile \u001B[38;5;28;01melse\u001B[39;00m \u001B[38;5;124m\"\u001B[39m\u001B[38;5;124mnonXla\u001B[39m\u001B[38;5;124m\"\u001B[39m\n\u001B[0;32m    914\u001B[0m \u001B[38;5;28;01mwith\u001B[39;00m OptionalXlaContext(\u001B[38;5;28mself\u001B[39m\u001B[38;5;241m.\u001B[39m_jit_compile):\n\u001B[1;32m--> 915\u001B[0m   result \u001B[38;5;241m=\u001B[39m \u001B[38;5;28mself\u001B[39m\u001B[38;5;241m.\u001B[39m_call(\u001B[38;5;241m*\u001B[39margs, \u001B[38;5;241m*\u001B[39m\u001B[38;5;241m*\u001B[39mkwds)\n\u001B[0;32m    917\u001B[0m new_tracing_count \u001B[38;5;241m=\u001B[39m \u001B[38;5;28mself\u001B[39m\u001B[38;5;241m.\u001B[39mexperimental_get_tracing_count()\n\u001B[0;32m    918\u001B[0m without_tracing \u001B[38;5;241m=\u001B[39m (tracing_count \u001B[38;5;241m==\u001B[39m new_tracing_count)\n",
      "File \u001B[1;32m~\\AppData\\Local\\Programs\\Python\\Python39\\lib\\site-packages\\tensorflow\\python\\eager\\def_function.py:954\u001B[0m, in \u001B[0;36mFunction._call\u001B[1;34m(self, *args, **kwds)\u001B[0m\n\u001B[0;32m    951\u001B[0m \u001B[38;5;28mself\u001B[39m\u001B[38;5;241m.\u001B[39m_lock\u001B[38;5;241m.\u001B[39mrelease()\n\u001B[0;32m    952\u001B[0m \u001B[38;5;66;03m# In this case we have not created variables on the first call. So we can\u001B[39;00m\n\u001B[0;32m    953\u001B[0m \u001B[38;5;66;03m# run the first trace but we should fail if variables are created.\u001B[39;00m\n\u001B[1;32m--> 954\u001B[0m results \u001B[38;5;241m=\u001B[39m \u001B[38;5;28mself\u001B[39m\u001B[38;5;241m.\u001B[39m_stateful_fn(\u001B[38;5;241m*\u001B[39margs, \u001B[38;5;241m*\u001B[39m\u001B[38;5;241m*\u001B[39mkwds)\n\u001B[0;32m    955\u001B[0m \u001B[38;5;28;01mif\u001B[39;00m \u001B[38;5;28mself\u001B[39m\u001B[38;5;241m.\u001B[39m_created_variables \u001B[38;5;129;01mand\u001B[39;00m \u001B[38;5;129;01mnot\u001B[39;00m ALLOW_DYNAMIC_VARIABLE_CREATION:\n\u001B[0;32m    956\u001B[0m   \u001B[38;5;28;01mraise\u001B[39;00m \u001B[38;5;167;01mValueError\u001B[39;00m(\u001B[38;5;124m\"\u001B[39m\u001B[38;5;124mCreating variables on a non-first call to a function\u001B[39m\u001B[38;5;124m\"\u001B[39m\n\u001B[0;32m    957\u001B[0m                    \u001B[38;5;124m\"\u001B[39m\u001B[38;5;124m decorated with tf.function.\u001B[39m\u001B[38;5;124m\"\u001B[39m)\n",
      "File \u001B[1;32m~\\AppData\\Local\\Programs\\Python\\Python39\\lib\\site-packages\\tensorflow\\python\\eager\\function.py:2453\u001B[0m, in \u001B[0;36mFunction.__call__\u001B[1;34m(self, *args, **kwargs)\u001B[0m\n\u001B[0;32m   2450\u001B[0m \u001B[38;5;28;01mwith\u001B[39;00m \u001B[38;5;28mself\u001B[39m\u001B[38;5;241m.\u001B[39m_lock:\n\u001B[0;32m   2451\u001B[0m   (graph_function,\n\u001B[0;32m   2452\u001B[0m    filtered_flat_args) \u001B[38;5;241m=\u001B[39m \u001B[38;5;28mself\u001B[39m\u001B[38;5;241m.\u001B[39m_maybe_define_function(args, kwargs)\n\u001B[1;32m-> 2453\u001B[0m \u001B[38;5;28;01mreturn\u001B[39;00m \u001B[43mgraph_function\u001B[49m\u001B[38;5;241;43m.\u001B[39;49m\u001B[43m_call_flat\u001B[49m\u001B[43m(\u001B[49m\n\u001B[0;32m   2454\u001B[0m \u001B[43m    \u001B[49m\u001B[43mfiltered_flat_args\u001B[49m\u001B[43m,\u001B[49m\u001B[43m \u001B[49m\u001B[43mcaptured_inputs\u001B[49m\u001B[38;5;241;43m=\u001B[39;49m\u001B[43mgraph_function\u001B[49m\u001B[38;5;241;43m.\u001B[39;49m\u001B[43mcaptured_inputs\u001B[49m\u001B[43m)\u001B[49m\n",
      "File \u001B[1;32m~\\AppData\\Local\\Programs\\Python\\Python39\\lib\\site-packages\\tensorflow\\python\\eager\\function.py:1860\u001B[0m, in \u001B[0;36mConcreteFunction._call_flat\u001B[1;34m(self, args, captured_inputs, cancellation_manager)\u001B[0m\n\u001B[0;32m   1856\u001B[0m possible_gradient_type \u001B[38;5;241m=\u001B[39m gradients_util\u001B[38;5;241m.\u001B[39mPossibleTapeGradientTypes(args)\n\u001B[0;32m   1857\u001B[0m \u001B[38;5;28;01mif\u001B[39;00m (possible_gradient_type \u001B[38;5;241m==\u001B[39m gradients_util\u001B[38;5;241m.\u001B[39mPOSSIBLE_GRADIENT_TYPES_NONE\n\u001B[0;32m   1858\u001B[0m     \u001B[38;5;129;01mand\u001B[39;00m executing_eagerly):\n\u001B[0;32m   1859\u001B[0m   \u001B[38;5;66;03m# No tape is watching; skip to running the function.\u001B[39;00m\n\u001B[1;32m-> 1860\u001B[0m   \u001B[38;5;28;01mreturn\u001B[39;00m \u001B[38;5;28mself\u001B[39m\u001B[38;5;241m.\u001B[39m_build_call_outputs(\u001B[38;5;28;43mself\u001B[39;49m\u001B[38;5;241;43m.\u001B[39;49m\u001B[43m_inference_function\u001B[49m\u001B[38;5;241;43m.\u001B[39;49m\u001B[43mcall\u001B[49m\u001B[43m(\u001B[49m\n\u001B[0;32m   1861\u001B[0m \u001B[43m      \u001B[49m\u001B[43mctx\u001B[49m\u001B[43m,\u001B[49m\u001B[43m \u001B[49m\u001B[43margs\u001B[49m\u001B[43m,\u001B[49m\u001B[43m \u001B[49m\u001B[43mcancellation_manager\u001B[49m\u001B[38;5;241;43m=\u001B[39;49m\u001B[43mcancellation_manager\u001B[49m\u001B[43m)\u001B[49m)\n\u001B[0;32m   1862\u001B[0m forward_backward \u001B[38;5;241m=\u001B[39m \u001B[38;5;28mself\u001B[39m\u001B[38;5;241m.\u001B[39m_select_forward_and_backward_functions(\n\u001B[0;32m   1863\u001B[0m     args,\n\u001B[0;32m   1864\u001B[0m     possible_gradient_type,\n\u001B[0;32m   1865\u001B[0m     executing_eagerly)\n\u001B[0;32m   1866\u001B[0m forward_function, args_with_tangents \u001B[38;5;241m=\u001B[39m forward_backward\u001B[38;5;241m.\u001B[39mforward()\n",
      "File \u001B[1;32m~\\AppData\\Local\\Programs\\Python\\Python39\\lib\\site-packages\\tensorflow\\python\\eager\\function.py:497\u001B[0m, in \u001B[0;36m_EagerDefinedFunction.call\u001B[1;34m(self, ctx, args, cancellation_manager)\u001B[0m\n\u001B[0;32m    495\u001B[0m \u001B[38;5;28;01mwith\u001B[39;00m _InterpolateFunctionError(\u001B[38;5;28mself\u001B[39m):\n\u001B[0;32m    496\u001B[0m   \u001B[38;5;28;01mif\u001B[39;00m cancellation_manager \u001B[38;5;129;01mis\u001B[39;00m \u001B[38;5;28;01mNone\u001B[39;00m:\n\u001B[1;32m--> 497\u001B[0m     outputs \u001B[38;5;241m=\u001B[39m \u001B[43mexecute\u001B[49m\u001B[38;5;241;43m.\u001B[39;49m\u001B[43mexecute\u001B[49m\u001B[43m(\u001B[49m\n\u001B[0;32m    498\u001B[0m \u001B[43m        \u001B[49m\u001B[38;5;28;43mstr\u001B[39;49m\u001B[43m(\u001B[49m\u001B[38;5;28;43mself\u001B[39;49m\u001B[38;5;241;43m.\u001B[39;49m\u001B[43msignature\u001B[49m\u001B[38;5;241;43m.\u001B[39;49m\u001B[43mname\u001B[49m\u001B[43m)\u001B[49m\u001B[43m,\u001B[49m\n\u001B[0;32m    499\u001B[0m \u001B[43m        \u001B[49m\u001B[43mnum_outputs\u001B[49m\u001B[38;5;241;43m=\u001B[39;49m\u001B[38;5;28;43mself\u001B[39;49m\u001B[38;5;241;43m.\u001B[39;49m\u001B[43m_num_outputs\u001B[49m\u001B[43m,\u001B[49m\n\u001B[0;32m    500\u001B[0m \u001B[43m        \u001B[49m\u001B[43minputs\u001B[49m\u001B[38;5;241;43m=\u001B[39;49m\u001B[43margs\u001B[49m\u001B[43m,\u001B[49m\n\u001B[0;32m    501\u001B[0m \u001B[43m        \u001B[49m\u001B[43mattrs\u001B[49m\u001B[38;5;241;43m=\u001B[39;49m\u001B[43mattrs\u001B[49m\u001B[43m,\u001B[49m\n\u001B[0;32m    502\u001B[0m \u001B[43m        \u001B[49m\u001B[43mctx\u001B[49m\u001B[38;5;241;43m=\u001B[39;49m\u001B[43mctx\u001B[49m\u001B[43m)\u001B[49m\n\u001B[0;32m    503\u001B[0m   \u001B[38;5;28;01melse\u001B[39;00m:\n\u001B[0;32m    504\u001B[0m     outputs \u001B[38;5;241m=\u001B[39m execute\u001B[38;5;241m.\u001B[39mexecute_with_cancellation(\n\u001B[0;32m    505\u001B[0m         \u001B[38;5;28mstr\u001B[39m(\u001B[38;5;28mself\u001B[39m\u001B[38;5;241m.\u001B[39msignature\u001B[38;5;241m.\u001B[39mname),\n\u001B[0;32m    506\u001B[0m         num_outputs\u001B[38;5;241m=\u001B[39m\u001B[38;5;28mself\u001B[39m\u001B[38;5;241m.\u001B[39m_num_outputs,\n\u001B[1;32m   (...)\u001B[0m\n\u001B[0;32m    509\u001B[0m         ctx\u001B[38;5;241m=\u001B[39mctx,\n\u001B[0;32m    510\u001B[0m         cancellation_manager\u001B[38;5;241m=\u001B[39mcancellation_manager)\n",
      "File \u001B[1;32m~\\AppData\\Local\\Programs\\Python\\Python39\\lib\\site-packages\\tensorflow\\python\\eager\\execute.py:54\u001B[0m, in \u001B[0;36mquick_execute\u001B[1;34m(op_name, num_outputs, inputs, attrs, ctx, name)\u001B[0m\n\u001B[0;32m     52\u001B[0m \u001B[38;5;28;01mtry\u001B[39;00m:\n\u001B[0;32m     53\u001B[0m   ctx\u001B[38;5;241m.\u001B[39mensure_initialized()\n\u001B[1;32m---> 54\u001B[0m   tensors \u001B[38;5;241m=\u001B[39m \u001B[43mpywrap_tfe\u001B[49m\u001B[38;5;241;43m.\u001B[39;49m\u001B[43mTFE_Py_Execute\u001B[49m\u001B[43m(\u001B[49m\u001B[43mctx\u001B[49m\u001B[38;5;241;43m.\u001B[39;49m\u001B[43m_handle\u001B[49m\u001B[43m,\u001B[49m\u001B[43m \u001B[49m\u001B[43mdevice_name\u001B[49m\u001B[43m,\u001B[49m\u001B[43m \u001B[49m\u001B[43mop_name\u001B[49m\u001B[43m,\u001B[49m\n\u001B[0;32m     55\u001B[0m \u001B[43m                                      \u001B[49m\u001B[43minputs\u001B[49m\u001B[43m,\u001B[49m\u001B[43m \u001B[49m\u001B[43mattrs\u001B[49m\u001B[43m,\u001B[49m\u001B[43m \u001B[49m\u001B[43mnum_outputs\u001B[49m\u001B[43m)\u001B[49m\n\u001B[0;32m     56\u001B[0m \u001B[38;5;28;01mexcept\u001B[39;00m core\u001B[38;5;241m.\u001B[39m_NotOkStatusException \u001B[38;5;28;01mas\u001B[39;00m e:\n\u001B[0;32m     57\u001B[0m   \u001B[38;5;28;01mif\u001B[39;00m name \u001B[38;5;129;01mis\u001B[39;00m \u001B[38;5;129;01mnot\u001B[39;00m \u001B[38;5;28;01mNone\u001B[39;00m:\n",
      "\u001B[1;31mKeyboardInterrupt\u001B[0m: "
     ]
    }
   ],
   "execution_count": 11
  },
  {
   "metadata": {
    "ExecuteTime": {
     "end_time": "2024-11-23T02:03:10.925553Z",
     "start_time": "2024-11-23T02:02:52.077767Z"
    }
   },
   "cell_type": "code",
   "source": [
    "from deepface import DeepFace\n",
    "\n",
    "# Générer les embeddings pour tous les visages présents dans l'image\n",
    "embedding_objs = DeepFace.represent(\n",
    "    img_path=\"./contacts_photos/JeremClement.jpg\",\n",
    "    detector_backend=\"retinaface\",  # Détecteur pour identifier les visages\n",
    "    model_name=\"Facenet512\",  # Modèle utilisé pour les embeddings\n",
    "    align=True,  # Aligner les visages détectés\n",
    "    enforce_detection=True,  # Assure que les visages sont détectés\n",
    ")\n",
    "\n",
    "# Affichage des résultats\n",
    "for i, embedding in enumerate(embedding_objs):\n",
    "    print(f\"Visage {i + 1}: {embedding}\")\n"
   ],
   "id": "1707f0939350d02e",
   "outputs": [
    {
     "name": "stdout",
     "output_type": "stream",
     "text": [
      "Visage 1: {'embedding': [-1.5118082761764526, 1.4601365327835083, -0.5694462060928345, -0.46456748247146606, -0.3929569721221924, -0.9432506561279297, 1.4444724321365356, 0.776737630367279, 1.019213080406189, -0.7817790508270264, 0.816615641117096, 0.34317418932914734, -1.036889910697937, -0.6223834753036499, 0.9665536880493164, -0.020830944180488586, -0.47937309741973877, -1.0261696577072144, -0.5008929967880249, -0.13527940213680267, 0.6537094712257385, -0.09408757090568542, -0.639856219291687, 0.0018600132316350937, 0.5863009095191956, 0.04498414695262909, -0.607003390789032, -0.7593380808830261, -1.0506372451782227, 0.6238212585449219, -1.1157262325286865, 0.3972708284854889, -1.0261425971984863, 0.5179714560508728, 0.35444730520248413, 1.9296705722808838, 1.1113674640655518, 0.09338071942329407, 0.3100767433643341, 0.37835779786109924, 0.32240238785743713, -0.346431165933609, -0.6923815011978149, 0.14607968926429749, -0.48382893204689026, -0.7985050082206726, 0.4852335453033447, 0.1764044165611267, 1.4359558820724487, -0.3526797592639923, 1.1135860681533813, -0.1605343073606491, -1.320595145225525, -0.5779737234115601, 0.7465540766716003, 1.0971914529800415, -2.3754076957702637, 1.6132508516311646, -0.5768159031867981, 0.1885679066181183, -0.6918696761131287, 0.8982720971107483, -0.7389538288116455, -1.0418543815612793, 0.16281408071517944, 0.5238713622093201, -1.7673237323760986, 1.1932986974716187, 0.8137013912200928, -0.9218198657035828, -0.6993802189826965, 0.7490277290344238, -0.35548272728919983, -1.6516903638839722, 2.124096155166626, -0.5360740423202515, 0.031452570110559464, -0.04769701510667801, -0.46863579750061035, 0.25660738348960876, -1.1994383335113525, -0.7050225734710693, 0.6193763017654419, -1.6692975759506226, -0.46824002265930176, -0.4746829867362976, -0.4568661153316498, -0.13576355576515198, 1.8992893695831299, 1.856991171836853, -0.14009618759155273, 2.005833864212036, -0.3469333052635193, 0.22283294796943665, -0.4702123999595642, -0.9710454344749451, 0.29604458808898926, -0.05560029298067093, -1.260410189628601, -0.8412970304489136, -0.02204396203160286, -0.7118038535118103, 0.792100727558136, -1.0106825828552246, 1.0011534690856934, 0.3050687313079834, 1.4115757942199707, 0.14331018924713135, 0.13086868822574615, 0.1576358824968338, -0.07277870923280716, 0.08863891661167145, 1.4512732028961182, 1.1812018156051636, -0.18122567236423492, -1.107136607170105, 0.5435695648193359, 0.020205911248922348, -2.0242295265197754, -0.6887619495391846, -1.4481040239334106, 0.4937807321548462, 1.4670103788375854, 1.1683533191680908, -0.2832646667957306, -0.7131234407424927, -1.0501062870025635, 0.2366681843996048, 0.48067039251327515, -0.2663179039955139, -0.12402044981718063, 0.460952490568161, 1.7507140636444092, -1.5482563972473145, 1.228598713874817, 0.4538886249065399, 1.106379508972168, 0.9449340105056763, -0.7672139406204224, 0.5188787579536438, 1.1160348653793335, -0.35503119230270386, -0.6648322939872742, 1.519179105758667, -0.6005170345306396, 0.04995618015527725, -0.6266434788703918, 0.7081331014633179, 1.0040217638015747, 1.4214794635772705, 0.14938996732234955, -1.8046423196792603, -0.2288922220468521, -0.7766621112823486, -0.07541093975305557, 0.3659029006958008, 1.6678121089935303, 0.91083824634552, -0.40990540385246277, 1.0518848896026611, 1.5629178285598755, -1.3440436124801636, -1.8781765699386597, 0.15413428843021393, 0.7169414162635803, -0.5999157428741455, 0.19899432361125946, -0.2531655430793762, 0.8110230565071106, 0.22764362394809723, 0.3998190462589264, 0.07887201756238937, -1.2381258010864258, 0.39429113268852234, -0.8742442727088928, -0.5377476215362549, 0.028345957398414612, -1.1972754001617432, -0.44154787063598633, 0.3828986585140228, -0.263744056224823, -0.09343577176332474, 0.7240980267524719, 0.5387096405029297, -2.102529525756836, 0.04180702567100525, 0.9615941047668457, 0.29886630177497864, -0.9792860150337219, 1.4519195556640625, 0.989240825176239, -0.6475893259048462, 0.041915036737918854, 0.474398672580719, -0.19111838936805725, -0.47248953580856323, 1.0322476625442505, 0.7811781167984009, -0.21242143213748932, -0.4801691174507141, -0.41864854097366333, -0.9135451912879944, 0.7092214822769165, 0.5178238153457642, 1.9276492595672607, -0.28871119022369385, 0.8407027721405029, -0.6357511878013611, -0.5515534281730652, -0.15197336673736572, 0.09805786609649658, -1.5981420278549194, 1.3279869556427002, -1.5723685026168823, -1.3171278238296509, -1.4347270727157593, -0.7082557082176208, 0.015389664098620415, 0.3010835647583008, -0.07970903813838959, -0.797272801399231, -0.4212615489959717, 0.3399912416934967, -1.0356545448303223, 1.4029210805892944, 1.0754739046096802, 0.02659144625067711, 1.1067180633544922, -0.36863380670547485, 1.241125464439392, -0.6491353511810303, -0.06597112119197845, -2.8468754291534424, 0.24082210659980774, 1.6876733303070068, 1.6630417108535767, -1.0306130647659302, 0.028216630220413208, -2.080728530883789, 0.14177194237709045, -1.3473217487335205, 0.05251403898000717, 1.7926051616668701, 1.4694827795028687, 1.6244417428970337, 1.5016489028930664, -0.07966627180576324, 0.40999510884284973, 1.4010858535766602, -1.1744037866592407, -0.19324398040771484, 1.6152503490447998, -0.9202756881713867, -0.6053329706192017, -0.7915467619895935, -1.4463956356048584, -0.4151807129383087, 0.13675034046173096, 0.995690107345581, -0.9672441482543945, 1.1229208707809448, 0.005935756489634514, 0.22409465909004211, 0.9647320508956909, 0.5215576887130737, 0.9553389549255371, -1.0653022527694702, 0.4330635666847229, -1.3738489151000977, 0.32670706510543823, -1.7930121421813965, -1.514691710472107, -1.9673292636871338, 1.8342632055282593, 0.7850150465965271, -1.2390347719192505, -1.5155041217803955, -1.3809398412704468, -1.7574938535690308, -0.46579647064208984, -1.3010016679763794, 0.3578975200653076, -0.2568874955177307, -1.4278855323791504, -1.4056068658828735, -0.6641008257865906, -1.2520688772201538, 0.27305862307548523, -0.3705585300922394, 0.7933188676834106, -0.0023641325533390045, 0.1756925880908966, -0.20682363212108612, -0.9787435531616211, -1.081650733947754, 0.20945367217063904, 1.1928521394729614, -1.6401304006576538, -0.9990283846855164, 0.8841899633407593, -1.1170507669448853, 1.393743872642517, -0.10368016362190247, 0.706667959690094, 0.5949763059616089, -0.7975703477859497, -0.4366333484649658, 0.3259841799736023, 1.3659491539001465, -0.44708240032196045, 1.71827232837677, 1.1674957275390625, 1.0990025997161865, -1.2059584856033325, 2.273442029953003, -0.6990684866905212, 1.1233803033828735, 0.49233829975128174, -1.1606806516647339, -2.0198516845703125, -0.6771477460861206, 0.22602710127830505, -1.3884321451187134, 1.671568751335144, 0.674176812171936, 0.7728651165962219, 1.5947452783584595, 1.156258225440979, 0.10044258832931519, 1.9887620210647583, -0.3041161596775055, 0.6431624293327332, -0.8304290771484375, 1.4810336828231812, -0.465362012386322, -1.0463026762008667, -0.23498649895191193, 0.4336622357368469, 1.8301712274551392, -0.41360101103782654, 1.7707232236862183, -0.003210445400327444, -0.9657778143882751, -0.11913169920444489, 0.3081822991371155, 0.031606607139110565, 1.5346729755401611, 0.8085584044456482, -1.8025670051574707, -1.8859081268310547, 0.09556324779987335, 1.0582457780838013, 0.7577444911003113, -1.061589241027832, 0.4152062237262726, 2.1796741485595703, 0.9619746804237366, -0.07088133692741394, 0.5186583995819092, -1.415132761001587, -0.7464436292648315, 0.9606291651725769, -0.690079927444458, -0.7433324456214905, 0.3614273965358734, 0.13993392884731293, 0.4535486400127411, -1.0111875534057617, -0.8116546273231506, 0.21967634558677673, -1.6963882446289062, -1.0322014093399048, 1.6808714866638184, -0.10412131249904633, -0.8465343713760376, 0.35467174649238586, 1.4688926935195923, 0.029521118849515915, -1.2457433938980103, 0.21207091212272644, -0.09415972232818604, 0.2271682322025299, 1.1365529298782349, 0.6209707856178284, 1.9521714448928833, 0.8259788155555725, -0.39629340171813965, 0.4475187063217163, -0.8982284069061279, 0.4300805628299713, -0.5498185157775879, -0.40499812364578247, -0.5108887553215027, -1.354589819908142, -0.014601435512304306, -0.8922919034957886, 0.36975720524787903, -0.9739875793457031, -1.6111971139907837, 1.8188425302505493, 0.09552359580993652, -1.0783793926239014, 0.8128935098648071, -0.1372392177581787, -2.417243480682373, 0.39316266775131226, 1.5273265838623047, -0.6607649326324463, 1.5978056192398071, 1.2124650478363037, -0.17337262630462646, -0.35314998030662537, -0.5934680104255676, -0.07107817381620407, -2.2093091011047363, 0.7979454398155212, -0.9048669338226318, -0.4105094075202942, -0.30551013350486755, -0.9925919771194458, 0.967605471611023, 0.5694975256919861, -0.3103269636631012, -0.49671468138694763, 0.9010456800460815, -0.6668936014175415, -0.7510316967964172, 0.638286292552948, 0.25606685876846313, -0.5189739465713501, 0.30062204599380493, -0.8692910671234131, 0.727850615978241, -0.5551856160163879, -1.0218585729599, -0.4173175096511841, 0.40767139196395874, 0.7934833765029907, -0.9109567403793335, -0.3663633465766907, -0.4890761375427246, 0.8195884823799133, 1.8993124961853027, 0.10543455183506012, 1.0657769441604614, -0.23847752809524536, 0.3129057288169861, 0.24805821478366852, 0.5538747310638428, 0.9259295463562012, 0.9669649004936218, -0.8271246552467346, 0.08274409174919128, -0.500395655632019, -1.4199144840240479, -1.0703221559524536, 0.3538465201854706, 1.1091140508651733, 1.3588987588882446, -0.5269827842712402, 0.7229146957397461, 0.02565150335431099, 0.5772131085395813, -2.2590301036834717, -1.104426383972168, 0.09686927497386932, -0.7234832048416138, 0.7659567594528198, 0.3678804337978363, -1.6073417663574219, -1.829231858253479, 0.7163218259811401, 0.6986575126647949, -1.4837006330490112, 0.044840261340141296, -0.2643888294696808, -2.101428508758545, 1.7939281463623047, 0.02140732854604721, -1.7578572034835815, -0.2908749282360077, 0.9591023325920105, 0.4547872245311737, 1.2106057405471802, 1.2701239585876465, 0.31389597058296204, -0.11234033852815628, -1.2132823467254639, -0.9751057028770447, -0.4519408345222473, 0.13507963716983795, 0.1822792887687683, -0.9219448566436768, 0.896759033203125, 0.779927134513855, 1.5016268491744995, -0.38458389043807983, 1.0801328420639038, 1.2911438941955566, -0.15983590483665466, -0.9821341037750244, 0.3535725772380829, 0.5932677984237671, 0.003889012150466442, 0.5597686767578125, -1.1635823249816895, -0.018777474761009216, 0.3075810670852661, 1.3589800596237183, 0.6002411246299744, 0.10487455129623413, 0.012449810281395912], 'facial_area': {'x': 767, 'y': 388, 'w': 200, 'h': 245, 'left_eye': (906, 474), 'right_eye': (815, 487)}, 'face_confidence': 1.0}\n",
      "Visage 2: {'embedding': [0.3636067509651184, 1.8577264547348022, 1.6106517314910889, -0.014548350125551224, -1.2458207607269287, 0.5950539708137512, -1.1956778764724731, -0.052992574870586395, 0.23828670382499695, 0.3937169313430786, 1.1973280906677246, 0.7833441495895386, -1.8164007663726807, 1.9519416093826294, 0.19071659445762634, 0.8707649111747742, 0.061146754771471024, 0.4766710102558136, -0.7462882995605469, 0.2871462404727936, -0.02688167616724968, -1.0193597078323364, 0.6630183458328247, -0.21032510697841644, 0.17885300517082214, -1.1111276149749756, -1.8846721649169922, 1.2880868911743164, 0.11078652739524841, -0.7113152742385864, -0.9060778021812439, -1.233673095703125, 0.15252622961997986, -0.33759593963623047, 0.6469129920005798, 1.3369054794311523, 1.550862193107605, -0.7739880084991455, 1.5021238327026367, -0.3073093295097351, 0.6714833974838257, 0.18449658155441284, -0.22171281278133392, 0.920799195766449, 0.4397988021373749, -1.021877646446228, -0.18499913811683655, 1.2173733711242676, 1.0860342979431152, 1.2046362161636353, 0.458054780960083, 0.12042862176895142, -0.4545367360115051, -0.37526410818099976, 0.7048351764678955, 1.1056007146835327, -2.1909608840942383, 1.3936084508895874, -0.4145541191101074, -0.3432062864303589, 0.6840333342552185, 0.9944936633110046, -1.0410336256027222, 0.5081605911254883, -0.1976308524608612, -0.011470395140349865, 0.6521556377410889, 1.8899695873260498, 2.018785238265991, 0.2942839562892914, 0.3808533549308777, 1.8919448852539062, -0.8887009620666504, 0.05675814673304558, -0.09813492745161057, -1.8026301860809326, -0.5726383328437805, 0.5303485989570618, 0.2896798253059387, 0.6714022159576416, -0.4123512804508209, -0.6112756729125977, -1.6569994688034058, 0.9117943048477173, 0.3201760947704315, 0.48165565729141235, 1.184870719909668, 0.8460090756416321, -0.8271461129188538, 1.9701839685440063, 0.7073884010314941, -0.45668724179267883, -0.2756810188293457, -0.8587860465049744, -1.1404582262039185, 0.4752945899963379, 1.3871455192565918, 0.9740200042724609, 0.48563826084136963, -0.10722965002059937, 0.6092374920845032, 0.7723528146743774, -1.2468377351760864, -0.6239539980888367, 0.5653002262115479, 0.39913368225097656, 0.8843207359313965, 0.9219374656677246, 0.026999443769454956, 0.021706106141209602, 1.6821010112762451, -0.9566487073898315, 1.5892746448516846, 1.1252189874649048, -0.1564721018075943, -0.16999442875385284, 2.4555721282958984, -1.4859446287155151, -1.0696380138397217, -1.0365015268325806, -0.27000296115875244, 1.3710567951202393, 0.1284216046333313, 1.5583840608596802, 0.13610032200813293, 0.402016818523407, 0.06857644021511078, 0.6264042258262634, -1.321694016456604, 0.8770483136177063, -1.6084450483322144, 0.5146251916885376, 0.6611135601997375, -1.9216554164886475, 0.4904654622077942, -1.0114407539367676, -0.23149845004081726, 0.9559759497642517, 0.997170627117157, 1.4295532703399658, 0.7541263699531555, -1.78961980342865, 1.4395805597305298, -0.31186917424201965, -0.9210196137428284, 0.1501534879207611, -0.17390000820159912, 1.0455007553100586, -0.14768145978450775, -1.1890869140625, 1.0947598218917847, -1.2249802350997925, -0.48336926102638245, -1.618664026260376, -0.1675802767276764, 0.2691715955734253, 0.5557761192321777, 0.8241876363754272, -1.0409833192825317, 0.6886422634124756, 0.8617615103721619, -0.6727425456047058, 0.3014422655105591, 0.7701044082641602, 0.6165498495101929, -0.2568281292915344, 0.0629524290561676, -0.3804659843444824, -0.5911060571670532, 1.1390092372894287, -1.0286333560943604, -0.14409160614013672, -1.1512701511383057, -0.8036787509918213, 0.7618606686592102, -1.2916685342788696, 0.4851820170879364, 1.1969181299209595, -0.38925209641456604, 0.9802156686782837, -1.353739619255066, -0.5839643478393555, -0.3916439414024353, -0.26125451922416687, -0.37019991874694824, -1.3037149906158447, -0.5655927062034607, 0.3800109624862671, -0.6203081607818604, 0.9881042242050171, 0.7607830762863159, 0.39789387583732605, -0.05349387973546982, -0.29852294921875, -0.49083903431892395, 0.4239313006401062, -0.9870808124542236, -0.497144877910614, -0.15558134019374847, 0.6598415374755859, 0.4136412739753723, 0.5643430352210999, -0.0947842001914978, -0.7622839212417603, 1.19770348072052, -0.8749829530715942, -1.5980435609817505, 0.8245387077331543, -1.3517794609069824, 0.6900707483291626, -2.07865834236145, -1.1133358478546143, 1.9132694005966187, -2.0863144397735596, -1.4061022996902466, 0.09184449911117554, 0.0989016592502594, 0.6548552513122559, -0.41237661242485046, 0.34406033158302307, -0.5873970985412598, 0.31396356225013733, 0.9493191838264465, -0.5984711647033691, -0.41207098960876465, 2.3111371994018555, 0.5541308522224426, 0.12892484664916992, -0.737907350063324, 0.10331845283508301, 1.39447021484375, -1.427227258682251, -0.8887498378753662, -0.3509683310985565, 1.5489579439163208, 0.6304028630256653, 0.4418998956680298, 0.039081938564777374, 0.24870067834854126, 1.815203309059143, -1.6209920644760132, 0.4811841547489166, 2.2663748264312744, 0.9453591108322144, 1.2060863971710205, -0.23702877759933472, 0.9429854154586792, 1.0525648593902588, 0.49790966510772705, -0.640733540058136, -0.5494317412376404, -0.741936445236206, -0.22238430380821228, 0.9959350228309631, 0.2728824019432068, -0.013638578355312347, -0.05827848240733147, 1.197452425956726, 0.6281962394714355, 1.7843961715698242, 0.21683663129806519, -0.10045576840639114, 1.1570680141448975, -0.4828387200832367, 0.7590805292129517, -0.25919315218925476, -0.683700680732727, 0.41305145621299744, 0.7920165061950684, 1.447200894355774, -1.4509209394454956, -0.7184465527534485, -0.24582594633102417, 1.4789561033248901, -0.29557228088378906, -1.3320353031158447, -1.31529700756073, -1.0689823627471924, 0.5749711394309998, -2.000373363494873, -1.9341644048690796, -0.08625932782888412, -0.01322798989713192, -0.1290728896856308, 1.0481425523757935, -1.0621676445007324, -0.45694178342819214, 2.175718307495117, -0.10724300891160965, -0.4420502483844757, 0.3222629129886627, 0.43003225326538086, 0.21192863583564758, 0.30442890524864197, -0.8052712082862854, 0.8064117431640625, -1.074910044670105, 0.5276324152946472, -1.215097427368164, -0.939225435256958, -1.306970238685608, 0.3510258197784424, -0.012976246885955334, 1.301511287689209, 2.7607078552246094, -0.700622022151947, 0.4370252788066864, -0.7085140943527222, 0.3079192638397217, -0.2297416627407074, 1.285149335861206, 0.7592073678970337, -0.31905969977378845, 0.8330399990081787, 2.813805103302002, -1.121187448501587, -0.8075082898139954, -0.3761698603630066, -2.610940933227539, -0.0667380541563034, -0.10547897219657898, 0.1740245223045349, -1.4181350469589233, 2.2000205516815186, -0.2603963613510132, 1.1427401304244995, -0.5585631132125854, 0.8579025864601135, 0.17026212811470032, 0.9595721960067749, -0.6223350167274475, -0.9937341809272766, -2.7686047554016113, 0.6527727246284485, 1.4451768398284912, 0.2473863661289215, 0.8408235311508179, 1.456606149673462, -0.33351925015449524, -0.08832567185163498, 1.3684254884719849, -0.1064947172999382, 0.695469856262207, 0.7524793744087219, -0.5601950883865356, 0.4113287627696991, 0.7956578135490417, -0.2513193190097809, 0.6707233190536499, 0.2085667848587036, 0.18884962797164917, -0.6631407737731934, 0.8376136422157288, 1.726874828338623, 0.913665771484375, 0.31567347049713135, 0.5951749682426453, 0.8722065687179565, 0.31412050127983093, -0.6926485300064087, -0.6863273978233337, 0.8229885697364807, -0.6661338210105896, -1.2951592206954956, -2.060310125350952, -0.26230552792549133, -0.569041907787323, -0.5776002407073975, -0.4375717043876648, -0.10830964148044586, -0.9400957226753235, -0.7466111779212952, 0.846064567565918, 0.5621483325958252, 1.210832118988037, 1.6345731019973755, -0.5469931364059448, 0.4084785580635071, 0.4272390902042389, 1.9140636920928955, 0.9460805654525757, 1.5622754096984863, -0.15694060921669006, 2.332834005355835, 2.889488935470581, -1.30674409866333, 0.14143125712871552, 1.485656499862671, -1.1488864421844482, 0.28103694319725037, -0.19471938908100128, 0.19723312556743622, -0.2586643099784851, 0.36454713344573975, -2.108806610107422, -1.5040643215179443, -0.3293883800506592, -1.483756422996521, -0.49132004380226135, 1.9462165832519531, 0.8946956992149353, -0.7946696877479553, 0.9162288904190063, -2.06656551361084, -1.833116054534912, -0.951539933681488, 1.3338791131973267, -1.367843508720398, 1.567048192024231, 0.22937098145484924, 0.0908021554350853, 0.3804885745048523, -1.195190191268921, 1.3903249502182007, -0.32154425978660583, -1.376648187637329, -0.42785000801086426, 1.5535203218460083, 1.0656297206878662, -2.072831869125366, 1.8616338968276978, 0.37894207239151, -1.2616559267044067, -0.6520301103591919, 2.1078128814697266, 0.24802479147911072, 0.9821094274520874, -0.22157587110996246, -0.8935295939445496, -1.4389145374298096, 0.8927316665649414, 0.6676530241966248, 0.9808391332626343, -1.736061692237854, -0.9884406328201294, 0.9236502647399902, 0.27283531427383423, 0.12086782604455948, -2.2233173847198486, -0.9455040693283081, 1.3534423112869263, 0.9616883993148804, -0.007356368005275726, -0.04660044610500336, -2.1419014930725098, 0.6219570636749268, 0.602719783782959, 0.494965523481369, 1.2167727947235107, -0.023374464362859726, 1.611412763595581, -0.18697915971279144, 0.7866680026054382, 0.9833354949951172, -0.059715259820222855, -2.0321688652038574, 1.122624158859253, 0.9444476962089539, 1.1420096158981323, -1.3381081819534302, -0.5932474136352539, -0.9468247294425964, -0.3126884698867798, 0.17613470554351807, -0.43290916085243225, 0.0427422821521759, 0.5044982433319092, 0.3533536195755005, 0.5808022022247314, 0.7348760962486267, 0.16484813392162323, 0.5075574517250061, 1.2694519758224487, -3.1118998527526855, -0.3827703297138214, -1.1908000707626343, -0.1722692847251892, 0.15258848667144775, -0.05917070060968399, -0.034767165780067444, -0.8331121206283569, 2.2853777408599854, 0.3681918978691101, 1.5978411436080933, -0.971855103969574, 0.8691235780715942, 1.4906086921691895, -0.33153489232063293, 1.9415860176086426, -1.9312410354614258, -0.9045660495758057, 1.2571935653686523, -2.5751020908355713, 0.6129926443099976, 0.5892012119293213, 0.21501858532428741, -0.7863814234733582, 0.3940446078777313, -1.894779086112976, -0.33822423219680786, -1.1735529899597168, 1.9947140216827393, -0.7778820395469666, 0.20492219924926758, 0.36982935667037964, -1.3961361646652222, -0.7720562219619751, 0.6877993941307068, -0.09334905445575714, -0.26819127798080444, 0.6819133162498474, -0.5820510983467102], 'facial_area': {'x': 262, 'y': 165, 'w': 259, 'h': 352, 'left_eye': (465, 294), 'right_eye': (341, 283)}, 'face_confidence': 1.0}\n"
     ]
    }
   ],
   "execution_count": 4
  },
  {
   "metadata": {
    "ExecuteTime": {
     "end_time": "2024-11-23T02:03:18.779109Z",
     "start_time": "2024-11-23T02:03:13.354928Z"
    }
   },
   "cell_type": "code",
   "source": [
    "from deepface import DeepFace\n",
    "\n",
    "# Générer les embeddings pour tous les visages présents dans l'image\n",
    "embedding_objs = DeepFace.represent(\n",
    "    img_path=\"./contacts_photos/Clem.jpg\",\n",
    "    detector_backend=\"retinaface\",  # Détecteur pour identifier les visages\n",
    "    model_name=\"Facenet512\",  # Modèle utilisé pour les embeddings\n",
    "    align=True,  # Aligner les visages détectés\n",
    "    enforce_detection=True,  # Assure que les visages sont détectés\n",
    ")\n",
    "\n",
    "# Affichage des résultats\n",
    "for i, embedding in enumerate(embedding_objs):\n",
    "    print(f\"Visage {i + 1}: {embedding}\")\n"
   ],
   "id": "26b25b3a510d9c8e",
   "outputs": [
    {
     "name": "stdout",
     "output_type": "stream",
     "text": [
      "Visage 1: {'embedding': [0.29262542724609375, 1.901214361190796, 0.5536031126976013, -1.2647889852523804, 0.32825013995170593, 0.339370459318161, -1.3463554382324219, -0.33755582571029663, 1.2187129259109497, 1.3638293743133545, -0.43192440271377563, 0.2594631314277649, -1.5093276500701904, 0.6917766332626343, -1.3275011777877808, 1.1258808374404907, -0.9944764971733093, -0.7299253940582275, -0.3665893077850342, 0.9629489779472351, 0.08593473583459854, -0.8045029640197754, -0.4069877862930298, -0.3330029249191284, 0.6567071080207825, -0.44735026359558105, -0.5217258334159851, 1.3178366422653198, 0.9279975295066833, -0.7335941195487976, 0.2204117774963379, -1.34384024143219, 0.8801181316375732, 0.0036588292568922043, 1.2982286214828491, 1.887413740158081, 2.067654848098755, -0.4918787181377411, 1.2148551940917969, 0.5723613500595093, 0.20490606129169464, 0.19016790390014648, 0.6732357740402222, 1.0429317951202393, -0.6480908393859863, -0.6294004321098328, -1.2390626668930054, 1.0021594762802124, 0.660199761390686, 0.8220188021659851, 0.975943386554718, -1.2887144088745117, -1.1056801080703735, -0.23017384111881256, 0.9433655142784119, 1.8574395179748535, -0.8530296087265015, 0.5046283006668091, 0.35046517848968506, -1.5099934339523315, 1.7221002578735352, 0.908079206943512, -1.4407273530960083, -0.35860294103622437, -0.9422953724861145, -0.5563679337501526, 1.3955727815628052, 1.5903717279434204, 1.2158923149108887, 0.8146139979362488, 0.2535324692726135, -0.3733028769493103, -0.8861588835716248, 0.10019312798976898, -0.37618088722229004, -1.4689372777938843, -1.0826979875564575, 1.8384003639221191, -0.0884348601102829, 0.7827770709991455, -0.2819097340106964, -0.6158220171928406, -0.4640495181083679, 1.071890115737915, 0.09947516024112701, 0.1766500473022461, 0.0122293746098876, 0.7093114852905273, -1.4664400815963745, 2.3349151611328125, 0.5777208209037781, -1.381410837173462, 0.6482180953025818, -0.8278684020042419, -1.3177684545516968, 0.1994970142841339, 1.9498294591903687, 1.411658763885498, 0.918676495552063, 0.2454698085784912, 0.6187079548835754, 1.0706020593643188, -0.6691049933433533, -0.5202827453613281, -0.422820121049881, -0.2115010917186737, 0.4025426208972931, 0.13832803070545197, 1.1528127193450928, 0.9248943328857422, 0.8925294280052185, -1.1542840003967285, 1.7454019784927368, 0.5149606466293335, 0.8001664280891418, 0.44728368520736694, 2.4315121173858643, -1.2498303651809692, 0.9108930230140686, -0.9892425537109375, 0.3837367594242096, 0.058037880808115005, -0.5893204212188721, 1.7411987781524658, -0.03265208378434181, -0.33168870210647583, 0.43809694051742554, -0.3204103410243988, -2.418893575668335, 2.2318334579467773, -1.5880911350250244, 1.532376766204834, -0.64325350522995, -2.2014718055725098, -0.015451004728674889, -1.5897347927093506, 0.9028419852256775, 0.46285977959632874, 0.7587528824806213, 0.8684576749801636, 0.7611684203147888, -3.3783628940582275, 0.5714100003242493, -0.2106042206287384, 0.141702800989151, -0.8659594058990479, 0.7485352158546448, 0.528277575969696, -0.4413273334503174, -2.628572463989258, 0.9129726886749268, -0.17109709978103638, 0.6424720883369446, -0.6138455867767334, -0.8236100077629089, -0.1469077169895172, 0.21989290416240692, 1.146227240562439, -0.5662343502044678, 0.3639542758464813, 0.9868634343147278, -0.27702534198760986, 0.21846123039722443, -0.8720195889472961, 0.7670242190361023, -0.269374281167984, 0.8879241943359375, -1.4077177047729492, 0.06765808165073395, 1.1474223136901855, -0.7634849548339844, -0.4182295799255371, -0.6780478358268738, 0.010127490386366844, 2.4261507987976074, -1.582574486732483, 1.1443390846252441, 0.645677387714386, -0.9085741639137268, -0.7917335629463196, -0.6455662846565247, 0.5015039443969727, -2.0695793628692627, -0.45861995220184326, 0.5934316515922546, 0.3980735242366791, -0.5287768244743347, 0.24520964920520782, -0.16174137592315674, 1.688854455947876, -0.021650927141308784, 1.2672176361083984, -0.9033907055854797, -0.7263504266738892, 0.05588541179895401, -0.03588830679655075, -0.6089423298835754, 1.1495314836502075, 0.8344152569770813, 0.6349535584449768, -1.4894440174102783, 0.054553672671318054, -0.3149438500404358, -0.9599137306213379, 1.1054372787475586, -0.4651086628437042, -0.3732947111129761, 1.1164554357528687, -0.14356979727745056, 1.4494727849960327, -2.4702014923095703, -1.514471411705017, 1.3604077100753784, -1.9735668897628784, -0.04703867435455322, 0.5764420628547668, -1.4958802461624146, 0.6677029132843018, -0.7718100547790527, 0.4023202657699585, -0.6411756873130798, -0.3824021816253662, 0.8569024205207825, 0.37796705961227417, -2.1977109909057617, 0.8226346373558044, -0.3043336570262909, -1.4142781496047974, 0.14046768844127655, 0.04005870968103409, 0.8018179535865784, -1.9896295070648193, -0.3422508239746094, -0.03903955593705177, 1.6762208938598633, -0.6431632041931152, 0.4085122048854828, -0.753905713558197, -0.7130833864212036, 1.5414764881134033, -0.08903913199901581, 1.1432781219482422, 1.4632490873336792, -0.34988531470298767, -0.5840015411376953, -0.31055375933647156, 0.2836323380470276, 0.9136295914649963, -0.6790117621421814, 0.13052034378051758, -0.12742716073989868, -0.7359379529953003, 0.23073706030845642, -0.10893682390451431, 0.18799307942390442, 0.15589696168899536, 0.10443432629108429, 1.5564415454864502, 1.6664576530456543, 1.684722661972046, -0.48721277713775635, 0.5218124985694885, 0.023211361840367317, -0.588959813117981, 1.6072005033493042, -0.7103103399276733, -0.030794311314821243, 1.8177621364593506, 0.34844931960105896, 0.5941487550735474, -0.21438392996788025, -0.5162195563316345, -1.6497726440429688, 0.5470575094223022, -0.10548795759677887, 0.14277975261211395, 0.7805051803588867, 0.6067321300506592, 0.49961942434310913, -1.2296090126037598, -1.2511916160583496, 0.380571186542511, 0.9300611019134521, 1.0612434148788452, 1.3457090854644775, -2.778226613998413, -0.5617501735687256, 2.2278802394866943, 0.7664318680763245, 0.009807203896343708, 0.20045976340770721, 0.2558740973472595, -2.215925931930542, 0.3815063238143921, -0.7802360653877258, 0.8555222749710083, -0.16517943143844604, 1.8520839214324951, -0.5788683295249939, -0.6156470775604248, -1.9017302989959717, 0.8055292963981628, -1.6389249563217163, 0.7068609595298767, 0.9668712615966797, -0.7641857862472534, 1.808794379234314, -0.42328256368637085, 0.09143705666065216, -0.7680768966674805, 0.7219676971435547, -0.32630959153175354, -1.664726734161377, 0.04510057345032692, 0.7511131167411804, -0.9918092489242554, -0.7972599267959595, -0.7822356820106506, -1.2103782892227173, 0.06540584564208984, -0.02657145820558071, -0.5770759582519531, -0.5284166932106018, 1.877627968788147, -2.385657787322998, 1.690639615058899, -0.9857824444770813, -0.2554956376552582, -0.6952549815177917, -0.34539464116096497, -0.3248528242111206, -2.0172154903411865, -1.2084354162216187, -0.793781578540802, 0.8735186457633972, 0.39272555708885193, 0.5774747133255005, 0.3821377754211426, -0.1633199155330658, 0.10230758041143417, 0.37767666578292847, 0.697711169719696, -0.18968699872493744, 0.33574378490448, -0.6185750961303711, -0.07629627734422684, -0.8873620629310608, -0.44922760128974915, 1.093382477760315, 1.111126184463501, 0.07351043075323105, 0.39344799518585205, 0.7003360390663147, 1.818846344947815, -0.2111121565103531, -2.6394035816192627, 0.08338500559329987, 1.3963552713394165, -0.2888907492160797, -0.515259861946106, -0.36160776019096375, 0.0649646744132042, -0.39127859473228455, -1.949702501296997, -0.9917577505111694, -0.03584025055170059, 0.292634516954422, 0.0546007938683033, 0.1552610844373703, -0.33941999077796936, -0.9809359908103943, -1.660931944847107, -1.5326485633850098, 0.62510085105896, 0.6763773560523987, -0.492068886756897, -1.0004539489746094, 0.25084128975868225, 0.6391858458518982, 1.9758251905441284, 1.7324990034103394, 1.0953795909881592, -0.5841639041900635, 1.67180597782135, 0.810373067855835, -1.7420127391815186, -0.41502684354782104, 1.3564053773880005, -1.1252224445343018, 0.6067409515380859, 0.11459332704544067, 0.1390804946422577, -0.5324540138244629, 0.8715124130249023, -1.7133128643035889, -1.1898646354675293, 1.0193202495574951, -0.6351128816604614, 1.280332088470459, 0.08959498256444931, 1.6076185703277588, -0.4716641306877136, 0.4044453203678131, -2.0635123252868652, -0.06728895008563995, 0.37215450406074524, -0.5321420431137085, -1.4477181434631348, 1.6708014011383057, 0.17414076626300812, 0.08690911531448364, 0.4028359353542328, -0.24342170357704163, 0.7908830642700195, 0.03498545661568642, -1.5447481870651245, 0.8906740546226501, 1.034255862236023, -0.5430466532707214, -0.9247053861618042, 1.3391109704971313, 1.4858144521713257, -0.43527618050575256, -0.4412235617637634, 1.4723694324493408, 1.6380481719970703, 0.32750293612480164, -0.8276408910751343, -1.2051116228103638, 0.0013450626283884048, 0.7727904319763184, 0.3425478935241699, -0.6124781370162964, -1.09688401222229, -0.31309831142425537, 1.5280613899230957, 0.40755677223205566, 0.6578038334846497, -2.066826820373535, -0.2119947224855423, 1.3835012912750244, 0.551683247089386, -1.4375932216644287, -0.5519999265670776, -2.3544118404388428, 0.9784179925918579, -0.5292539000511169, -0.031230395659804344, 0.7271592617034912, -0.8341763019561768, 2.9860620498657227, 0.283063143491745, -0.37943777441978455, 1.6091912984848022, 0.2330860048532486, -1.3869391679763794, 0.491992712020874, -0.2787124514579773, 1.3462154865264893, -1.2868213653564453, 0.2602907419204712, -0.283159464597702, -0.0586472824215889, 0.9685965180397034, -0.2610030472278595, 0.31235650181770325, 0.08430914580821991, -0.47833892703056335, -0.3979937732219696, 0.650182843208313, 0.26891887187957764, 0.589491069316864, 0.35925838351249695, -2.2463510036468506, 0.2151220440864563, -0.051100172102451324, 1.2837713956832886, -0.5123546123504639, 0.18953703343868256, 0.1778019368648529, 0.29603201150894165, 2.0248560905456543, -0.777998685836792, 1.0781251192092896, -0.0783444195985794, 0.5477316379547119, 0.9661535620689392, 0.848018229007721, 0.7290823459625244, -1.484303593635559, 0.43956393003463745, 0.33181583881378174, -0.6320178508758545, 1.522890567779541, 0.11256537586450577, 1.503507375717163, -1.7785407304763794, -0.7416335344314575, -2.404665946960449, -1.3086408376693726, -0.748735249042511, 1.3693512678146362, -0.0021281903609633446, -0.36823955178260803, 0.6085799336433411, -1.2241100072860718, -0.5799542665481567, -0.035369619727134705, -0.10084094852209091, -0.8515962958335876, 2.128925085067749, 0.668631911277771], 'facial_area': {'x': 501, 'y': 124, 'w': 272, 'h': 380, 'left_eye': (711, 261), 'right_eye': (580, 265)}, 'face_confidence': 1.0}\n"
     ]
    }
   ],
   "execution_count": 5
  },
  {
   "metadata": {
    "ExecuteTime": {
     "end_time": "2024-11-23T02:03:24.933962Z",
     "start_time": "2024-11-23T02:03:19.658958Z"
    }
   },
   "cell_type": "code",
   "source": [
    "from deepface import DeepFace\n",
    "\n",
    "# Générer les embeddings pour tous les visages présents dans l'image\n",
    "embedding_objs = DeepFace.represent(\n",
    "    img_path=\"./contacts_photos/Jerem.jpg\",\n",
    "    detector_backend=\"retinaface\",  # Détecteur pour identifier les visages\n",
    "    model_name=\"Facenet512\",  # Modèle utilisé pour les embeddings\n",
    "    align=True,  # Aligner les visages détectés\n",
    "    enforce_detection=True,  # Assure que les visages sont détectés\n",
    ")\n",
    "\n",
    "# Affichage des résultats\n",
    "for i, embedding in enumerate(embedding_objs):\n",
    "    print(f\"Visage {i + 1}: {embedding}\")\n"
   ],
   "id": "b9b460db0310197e",
   "outputs": [
    {
     "name": "stdout",
     "output_type": "stream",
     "text": [
      "Visage 1: {'embedding': [-0.0923929437994957, -0.09239009022712708, -0.3988529145717621, -0.0814400166273117, -1.4772683382034302, -0.17579182982444763, 1.029139757156372, 1.5911258459091187, 1.2380977869033813, -1.9103987216949463, -0.10973934084177017, 0.8601358532905579, 0.13746453821659088, 1.265214443206787, -0.24435670673847198, 0.16681386530399323, -0.12922075390815735, 0.5063185095787048, -0.31164151430130005, -0.7499434351921082, -0.3565652370452881, 0.04371902346611023, 1.5574018955230713, 0.2019539177417755, 0.9795171618461609, -0.2331252247095108, -1.5725489854812622, -0.6581977605819702, -0.037036530673503876, -0.05550382658839226, -0.3092838227748871, 0.017958102747797966, -0.588019073009491, -0.3665885627269745, 0.7948889136314392, 2.9618005752563477, 0.02744627371430397, 0.6667462587356567, -0.4062204360961914, 0.6210648417472839, 1.0197731256484985, 0.22241151332855225, -0.41544294357299805, -0.04946672171354294, -0.3628058433532715, -1.035767912864685, -0.7518272995948792, 1.9060620069503784, -0.5594774484634399, -0.7231096029281616, -0.23996953666210175, 0.8026484847068787, -0.0028299917466938496, 0.5303859114646912, -0.7539975643157959, 1.510825276374817, -1.011892318725586, 1.4752260446548462, 0.22462886571884155, 0.008031211793422699, -0.13181520998477936, 0.41686490178108215, 0.2943659722805023, 0.0759197473526001, 0.26440101861953735, 0.6088753342628479, -0.5630394220352173, 0.9284712672233582, 1.5799535512924194, -0.5031911134719849, -0.6125034689903259, 0.1259927898645401, 0.8875213265419006, -1.4118410348892212, 1.449187994003296, -1.7309261560440063, -0.3794657588005066, 0.5264197587966919, -0.892581045627594, 0.09990405291318893, -0.7581344842910767, -0.5860148668289185, -0.7042101621627808, 0.12222982197999954, -0.3048347532749176, 0.5182621479034424, 1.1268236637115479, 0.1446477174758911, -0.39015114307403564, 0.6893047094345093, 0.6454638242721558, 0.9949147701263428, -0.028296606615185738, -0.9463263154029846, -0.025504734367132187, -1.2528260946273804, -0.02217070758342743, -1.3203459978103638, -1.9535479545593262, 0.3168621361255646, 0.5274596214294434, -0.3976019024848938, -0.11114051192998886, 0.05577410012483597, 1.0552022457122803, 0.47727543115615845, 1.6221861839294434, 1.2195816040039062, 0.49078330397605896, -0.07317613065242767, 0.40817585587501526, 0.7112956047058105, 0.9783883690834045, -0.20746305584907532, -0.10687212646007538, -2.338216543197632, -0.12190654873847961, -0.4381844997406006, -2.8762640953063965, -1.6745082139968872, -1.3504520654678345, 0.5006188154220581, 0.2873710095882416, 0.7062265276908875, -1.75167715549469, -0.5934173464775085, -1.5727765560150146, 1.109938383102417, 0.17205184698104858, 0.3209250271320343, -0.7602238655090332, -0.5857661366462708, 0.6158463358879089, -1.221979022026062, 0.5893704295158386, 1.548600196838379, 0.9777337312698364, 0.8005601167678833, 0.7905241250991821, 0.795698881149292, 0.8444520831108093, -0.8415241241455078, 1.2053824663162231, 0.9108172655105591, -0.23803925514221191, -0.4703039526939392, -0.4744099974632263, 0.8170809745788574, 0.09415871649980545, -0.14173133671283722, 1.25135338306427, -2.319647789001465, -0.5799766778945923, -0.8548364639282227, 0.0712231919169426, 0.11046408116817474, 1.1826362609863281, 1.126415491104126, -1.0753493309020996, 0.5122458338737488, 0.4021572768688202, 0.7700372934341431, -0.7673784494400024, 0.009977441281080246, 1.6269948482513428, 0.1821574866771698, -1.367104411125183, -0.1054517924785614, -0.6528609395027161, 0.22403906285762787, -0.4249400198459625, -1.060038685798645, -0.7135371565818787, 0.040728285908699036, 1.1418044567108154, -1.0576305389404297, -0.142064169049263, -0.9056276082992554, -1.0855412483215332, 1.2973612546920776, -1.903804898262024, 0.9483641386032104, 0.2248397320508957, -0.640842854976654, -0.7364175915718079, -0.2527507245540619, 0.7152005434036255, -1.0806314945220947, -0.96983802318573, -0.6387754678726196, 1.274381160736084, -1.0553197860717773, -0.2331266552209854, -0.4345778822898865, -0.14207102358341217, -0.07456555962562561, -0.7586908340454102, 0.5875355005264282, 0.3119906187057495, 0.7655153274536133, 0.47074753046035767, 1.6759463548660278, -0.5254718661308289, -0.1411977857351303, 1.3967653512954712, -0.9736810922622681, -0.52401202917099, -0.7310746312141418, -0.05106135085225105, 0.1290731281042099, -0.3009762465953827, -0.8803467750549316, 0.3577950894832611, -0.4836995601654053, -1.50881028175354, 0.2903236150741577, 0.2502215504646301, -0.07430575788021088, 0.6597384810447693, -0.5916053056716919, -0.47423791885375977, -1.0135548114776611, -0.20687037706375122, -1.3438395261764526, 0.07056795805692673, 1.1309791803359985, 0.02786879800260067, 0.7527729272842407, -1.0174357891082764, -0.5343475937843323, 0.08820986747741699, 0.31708455085754395, -0.92851722240448, -0.4841170012950897, 1.105366587638855, 0.9121007323265076, -0.29720538854599, -0.20777258276939392, -0.5422605276107788, -0.43925848603248596, -1.6436758041381836, -1.5599440336227417, 2.280402421951294, 0.4160623550415039, 1.894581913948059, 1.27809476852417, 0.5568947792053223, 0.7534794807434082, -0.230197474360466, -0.46493077278137207, 0.9907819032669067, 0.4387918710708618, -1.1030514240264893, 1.208248257637024, 0.4174901843070984, -0.4107876121997833, -0.014246257022023201, -0.5064384937286377, 0.05060084909200668, 1.3717041015625, 0.9098426699638367, -0.6138432621955872, -0.004829288925975561, 0.05152764171361923, -0.7681779265403748, -0.2736489176750183, -0.4135386049747467, 0.045169126242399216, -1.1476249694824219, 1.7957714796066284, -1.8923026323318481, -1.7596368789672852, -1.1165189743041992, 1.3388029336929321, 1.0681558847427368, -1.5340296030044556, -1.0025180578231812, -1.4763282537460327, -1.0360016822814941, -0.40275001525878906, -0.3771917223930359, -0.43144771456718445, -0.7081401348114014, -1.4559600353240967, -1.3705962896347046, -0.680578887462616, -1.1446993350982666, 0.6957229375839233, -0.1727706491947174, 0.6976194977760315, 0.9330519437789917, -0.4115903377532959, 0.7603081464767456, -1.1797950267791748, -0.07919752597808838, 0.4641978144645691, -0.1480035036802292, -0.4432552456855774, -1.8956772089004517, 0.6023996472358704, -0.6038432121276855, 0.5152225494384766, 1.0882281064987183, 0.7469144463539124, 0.42042794823646545, -1.012939691543579, -0.8148765563964844, -0.9580721855163574, 1.8784065246582031, -0.7921237349510193, 0.01372369285672903, 0.11895061284303665, 0.327480286359787, 0.2221287339925766, 1.3085179328918457, 0.43659254908561707, 1.0187044143676758, 0.09841644763946533, -0.6795873641967773, -1.4331824779510498, -1.3301960229873657, -0.6248230338096619, -0.2989225685596466, 1.3681784868240356, -0.5052330493927002, 2.084768772125244, -0.5472288131713867, 0.7690371870994568, 0.37518981099128723, 0.9544425010681152, 0.08873466402292252, -0.4099883735179901, -0.7603359222412109, 0.7784613370895386, 1.5385088920593262, -0.6270677447319031, 1.5552797317504883, 1.8991763591766357, 0.8883007168769836, -0.9540306925773621, 0.5939804315567017, -0.9728703498840332, 0.18788926303386688, -0.8150755763053894, -0.07077421247959137, -0.7307232022285461, 1.4121090173721313, 1.3187313079833984, -0.975644588470459, -0.6724752187728882, 0.7491387128829956, 0.6817849278450012, 1.3146159648895264, -0.4897480010986328, 0.1749195009469986, 0.7790079116821289, -0.04815131053328514, -0.079459547996521, 0.6296638250350952, -0.14687901735305786, -0.24169449508190155, 1.4540222883224487, 0.07458774000406265, -0.4656708538532257, -0.6980893611907959, 1.3378061056137085, 0.9836679697036743, 0.2075156420469284, 0.053766753524541855, -1.1522984504699707, -1.4249851703643799, -0.32312870025634766, 1.8767726421356201, 0.7194735407829285, -0.15665660798549652, 1.2467656135559082, 0.6052167415618896, 0.6448356509208679, 0.47406452894210815, 0.6979396343231201, -0.0777786374092102, 1.7020344734191895, 0.18203336000442505, 1.436160922050476, 1.985250473022461, -0.03104511648416519, -0.4228491187095642, -0.09640516340732574, -0.637500524520874, -0.14687612652778625, 1.2150615453720093, -0.49821698665618896, -0.6882472634315491, -0.4798959195613861, -1.3970563411712646, -1.2089232206344604, 0.4189828336238861, -0.7215070724487305, -1.0879454612731934, 1.404190182685852, 0.11991479992866516, -0.6909288167953491, -0.4351838231086731, -0.29470348358154297, -1.5045876502990723, 0.44869929552078247, 0.8053624033927917, -1.4448775053024292, 1.1368999481201172, 0.8386297225952148, 0.12085886299610138, 0.7941889762878418, -0.5350271463394165, -0.3474714159965515, -1.47271728515625, -1.0139626264572144, -0.5567483901977539, -1.2949597835540771, 0.6020825505256653, -1.6283355951309204, 1.2938621044158936, 0.6867513656616211, -1.3887780904769897, -0.7495049238204956, 0.9050880074501038, -0.8666395545005798, 0.7763469219207764, -0.223957359790802, 0.04036891460418701, -0.8102965950965881, 0.43912947177886963, 0.18174313008785248, 0.28204500675201416, -0.8826425671577454, -1.5148038864135742, 0.06927910447120667, 0.7415049076080322, 0.8240286707878113, -0.6667240262031555, -0.515988826751709, -0.10441626608371735, 0.8957783579826355, 0.9848719239234924, 0.2726752758026123, 0.6879335045814514, -0.7082694172859192, -1.6491793394088745, 0.1143408939242363, 0.5060652494430542, 0.9825482368469238, 0.6111520528793335, -0.8237584829330444, -0.4785471260547638, 0.0494806133210659, -0.10636314749717712, -1.4950662851333618, 0.09300175309181213, 1.3679546117782593, 1.8691047430038452, 0.046681035310029984, -0.5719457864761353, 0.1761949509382248, 0.1503239870071411, -0.8149820566177368, -0.4072484076023102, 0.7551177740097046, -0.15736143290996552, -0.22768986225128174, 0.2604343891143799, 0.5276103615760803, -0.9755914211273193, 0.47222384810447693, 0.7951357960700989, -2.043890953063965, -0.3167605996131897, -0.5743188858032227, -1.4275310039520264, 1.3422727584838867, -0.0885433480143547, -1.142684817314148, -0.049931421875953674, 0.19386431574821472, 0.7239614129066467, 0.8385002017021179, -0.1714514195919037, 0.8623882532119751, 0.4905751645565033, -0.0620603933930397, -0.24077945947647095, -1.389756679534912, -0.24940046668052673, -0.49434399604797363, -0.9909137487411499, -0.10072119534015656, 1.1294970512390137, 0.9544939994812012, -1.668624758720398, 1.8416844606399536, 0.581954836845398, -0.6855573058128357, -1.270789623260498, 0.09858831763267517, -0.1213551014661789, 0.8002362847328186, 0.4377892017364502, -1.4013413190841675, 1.2601183652877808, 0.5980595350265503, 0.1155102401971817, 0.0616406612098217, -0.5757014155387878, -1.2668118476867676], 'facial_area': {'x': 777, 'y': 376, 'w': 202, 'h': 232, 'left_eye': (930, 455), 'right_eye': (836, 460)}, 'face_confidence': 1.0}\n"
     ]
    }
   ],
   "execution_count": 6
  },
  {
   "metadata": {
    "ExecuteTime": {
     "end_time": "2024-11-23T01:56:42.255638Z",
     "start_time": "2024-11-23T01:56:42.095181Z"
    }
   },
   "cell_type": "code",
   "source": [
    "from qdrant_client import QdrantClient\n",
    "from qdrant_client.models import Distance, VectorParams\n",
    "\n",
    "client = QdrantClient(url=\"http://localhost:6333\")\n",
    "client.create_collection(\n",
    "    collection_name=\"Profile\",\n",
    "    vectors_config=VectorParams(size=512, distance=Distance.COSINE),\n",
    ")"
   ],
   "id": "7463e224aa97709c",
   "outputs": [
    {
     "ename": "UnexpectedResponse",
     "evalue": "Unexpected Response: 409 (Conflict)\nRaw response content:\nb'{\"status\":{\"error\":\"Wrong input: Collection `Profile` already exists!\"},\"time\":0.000065542}'",
     "output_type": "error",
     "traceback": [
      "\u001B[1;31m---------------------------------------------------------------------------\u001B[0m",
      "\u001B[1;31mUnexpectedResponse\u001B[0m                        Traceback (most recent call last)",
      "Cell \u001B[1;32mIn[3], line 4\u001B[0m\n\u001B[0;32m      2\u001B[0m \u001B[38;5;28;01mfrom\u001B[39;00m \u001B[38;5;21;01mqdrant_client\u001B[39;00m\u001B[38;5;21;01m.\u001B[39;00m\u001B[38;5;21;01mmodels\u001B[39;00m \u001B[38;5;28;01mimport\u001B[39;00m Distance, VectorParams\n\u001B[0;32m      3\u001B[0m client \u001B[38;5;241m=\u001B[39m QdrantClient(url\u001B[38;5;241m=\u001B[39m\u001B[38;5;124m\"\u001B[39m\u001B[38;5;124mhttp://localhost:6333\u001B[39m\u001B[38;5;124m\"\u001B[39m)\n\u001B[1;32m----> 4\u001B[0m \u001B[43mclient\u001B[49m\u001B[38;5;241;43m.\u001B[39;49m\u001B[43mcreate_collection\u001B[49m\u001B[43m(\u001B[49m\n\u001B[0;32m      5\u001B[0m \u001B[43m    \u001B[49m\u001B[43mcollection_name\u001B[49m\u001B[38;5;241;43m=\u001B[39;49m\u001B[38;5;124;43m\"\u001B[39;49m\u001B[38;5;124;43mProfile\u001B[39;49m\u001B[38;5;124;43m\"\u001B[39;49m\u001B[43m,\u001B[49m\n\u001B[0;32m      6\u001B[0m \u001B[43m    \u001B[49m\u001B[43mvectors_config\u001B[49m\u001B[38;5;241;43m=\u001B[39;49m\u001B[43mVectorParams\u001B[49m\u001B[43m(\u001B[49m\u001B[43msize\u001B[49m\u001B[38;5;241;43m=\u001B[39;49m\u001B[38;5;241;43m512\u001B[39;49m\u001B[43m,\u001B[49m\u001B[43m \u001B[49m\u001B[43mdistance\u001B[49m\u001B[38;5;241;43m=\u001B[39;49m\u001B[43mDistance\u001B[49m\u001B[38;5;241;43m.\u001B[39;49m\u001B[43mCOSINE\u001B[49m\u001B[43m)\u001B[49m\u001B[43m,\u001B[49m\n\u001B[0;32m      7\u001B[0m \u001B[43m)\u001B[49m\n",
      "File \u001B[1;32m~\\AppData\\Local\\Programs\\Python\\Python39\\lib\\site-packages\\qdrant_client\\qdrant_client.py:1678\u001B[0m, in \u001B[0;36mQdrantClient.create_collection\u001B[1;34m(self, collection_name, vectors_config, sparse_vectors_config, shard_number, sharding_method, replication_factor, write_consistency_factor, on_disk_payload, hnsw_config, optimizers_config, wal_config, quantization_config, init_from, timeout, **kwargs)\u001B[0m\n\u001B[0;32m   1629\u001B[0m \u001B[38;5;250m\u001B[39m\u001B[38;5;124;03m\"\"\"Create empty collection with given parameters\u001B[39;00m\n\u001B[0;32m   1630\u001B[0m \n\u001B[0;32m   1631\u001B[0m \u001B[38;5;124;03mArgs:\u001B[39;00m\n\u001B[1;32m   (...)\u001B[0m\n\u001B[0;32m   1674\u001B[0m \u001B[38;5;124;03m    Operation result\u001B[39;00m\n\u001B[0;32m   1675\u001B[0m \u001B[38;5;124;03m\"\"\"\u001B[39;00m\n\u001B[0;32m   1676\u001B[0m \u001B[38;5;28;01massert\u001B[39;00m \u001B[38;5;28mlen\u001B[39m(kwargs) \u001B[38;5;241m==\u001B[39m \u001B[38;5;241m0\u001B[39m, \u001B[38;5;124mf\u001B[39m\u001B[38;5;124m\"\u001B[39m\u001B[38;5;124mUnknown arguments: \u001B[39m\u001B[38;5;132;01m{\u001B[39;00m\u001B[38;5;28mlist\u001B[39m(kwargs\u001B[38;5;241m.\u001B[39mkeys())\u001B[38;5;132;01m}\u001B[39;00m\u001B[38;5;124m\"\u001B[39m\n\u001B[1;32m-> 1678\u001B[0m \u001B[38;5;28;01mreturn\u001B[39;00m \u001B[38;5;28mself\u001B[39m\u001B[38;5;241m.\u001B[39m_client\u001B[38;5;241m.\u001B[39mcreate_collection(\n\u001B[0;32m   1679\u001B[0m     collection_name\u001B[38;5;241m=\u001B[39mcollection_name,\n\u001B[0;32m   1680\u001B[0m     vectors_config\u001B[38;5;241m=\u001B[39mvectors_config,\n\u001B[0;32m   1681\u001B[0m     shard_number\u001B[38;5;241m=\u001B[39mshard_number,\n\u001B[0;32m   1682\u001B[0m     sharding_method\u001B[38;5;241m=\u001B[39msharding_method,\n\u001B[0;32m   1683\u001B[0m     replication_factor\u001B[38;5;241m=\u001B[39mreplication_factor,\n\u001B[0;32m   1684\u001B[0m     write_consistency_factor\u001B[38;5;241m=\u001B[39mwrite_consistency_factor,\n\u001B[0;32m   1685\u001B[0m     on_disk_payload\u001B[38;5;241m=\u001B[39mon_disk_payload,\n\u001B[0;32m   1686\u001B[0m     hnsw_config\u001B[38;5;241m=\u001B[39mhnsw_config,\n\u001B[0;32m   1687\u001B[0m     optimizers_config\u001B[38;5;241m=\u001B[39moptimizers_config,\n\u001B[0;32m   1688\u001B[0m     wal_config\u001B[38;5;241m=\u001B[39mwal_config,\n\u001B[0;32m   1689\u001B[0m     quantization_config\u001B[38;5;241m=\u001B[39mquantization_config,\n\u001B[0;32m   1690\u001B[0m     init_from\u001B[38;5;241m=\u001B[39minit_from,\n\u001B[0;32m   1691\u001B[0m     timeout\u001B[38;5;241m=\u001B[39mtimeout,\n\u001B[0;32m   1692\u001B[0m     sparse_vectors_config\u001B[38;5;241m=\u001B[39msparse_vectors_config,\n\u001B[0;32m   1693\u001B[0m     \u001B[38;5;241m*\u001B[39m\u001B[38;5;241m*\u001B[39mkwargs,\n\u001B[0;32m   1694\u001B[0m )\n",
      "File \u001B[1;32m~\\AppData\\Local\\Programs\\Python\\Python39\\lib\\site-packages\\qdrant_client\\qdrant_remote.py:2233\u001B[0m, in \u001B[0;36mQdrantRemote.create_collection\u001B[1;34m(self, collection_name, vectors_config, shard_number, replication_factor, write_consistency_factor, on_disk_payload, hnsw_config, optimizers_config, wal_config, quantization_config, init_from, timeout, sparse_vectors_config, sharding_method, **kwargs)\u001B[0m\n\u001B[0;32m   2216\u001B[0m     init_from \u001B[38;5;241m=\u001B[39m GrpcToRest\u001B[38;5;241m.\u001B[39mconvert_init_from(init_from)\n\u001B[0;32m   2218\u001B[0m create_collection_request \u001B[38;5;241m=\u001B[39m models\u001B[38;5;241m.\u001B[39mCreateCollection(\n\u001B[0;32m   2219\u001B[0m     vectors\u001B[38;5;241m=\u001B[39mvectors_config,\n\u001B[0;32m   2220\u001B[0m     shard_number\u001B[38;5;241m=\u001B[39mshard_number,\n\u001B[1;32m   (...)\u001B[0m\n\u001B[0;32m   2230\u001B[0m     sharding_method\u001B[38;5;241m=\u001B[39msharding_method,\n\u001B[0;32m   2231\u001B[0m )\n\u001B[1;32m-> 2233\u001B[0m result: Optional[\u001B[38;5;28mbool\u001B[39m] \u001B[38;5;241m=\u001B[39m \u001B[38;5;28;43mself\u001B[39;49m\u001B[38;5;241;43m.\u001B[39;49m\u001B[43mhttp\u001B[49m\u001B[38;5;241;43m.\u001B[39;49m\u001B[43mcollections_api\u001B[49m\u001B[38;5;241;43m.\u001B[39;49m\u001B[43mcreate_collection\u001B[49m\u001B[43m(\u001B[49m\n\u001B[0;32m   2234\u001B[0m \u001B[43m    \u001B[49m\u001B[43mcollection_name\u001B[49m\u001B[38;5;241;43m=\u001B[39;49m\u001B[43mcollection_name\u001B[49m\u001B[43m,\u001B[49m\n\u001B[0;32m   2235\u001B[0m \u001B[43m    \u001B[49m\u001B[43mcreate_collection\u001B[49m\u001B[38;5;241;43m=\u001B[39;49m\u001B[43mcreate_collection_request\u001B[49m\u001B[43m,\u001B[49m\n\u001B[0;32m   2236\u001B[0m \u001B[43m    \u001B[49m\u001B[43mtimeout\u001B[49m\u001B[38;5;241;43m=\u001B[39;49m\u001B[43mtimeout\u001B[49m\u001B[43m,\u001B[49m\n\u001B[0;32m   2237\u001B[0m \u001B[43m\u001B[49m\u001B[43m)\u001B[49m\u001B[38;5;241m.\u001B[39mresult\n\u001B[0;32m   2239\u001B[0m \u001B[38;5;28;01massert\u001B[39;00m result \u001B[38;5;129;01mis\u001B[39;00m \u001B[38;5;129;01mnot\u001B[39;00m \u001B[38;5;28;01mNone\u001B[39;00m, \u001B[38;5;124m\"\u001B[39m\u001B[38;5;124mCreate collection returned None\u001B[39m\u001B[38;5;124m\"\u001B[39m\n\u001B[0;32m   2240\u001B[0m \u001B[38;5;28;01mreturn\u001B[39;00m result\n",
      "File \u001B[1;32m~\\AppData\\Local\\Programs\\Python\\Python39\\lib\\site-packages\\qdrant_client\\http\\api\\collections_api.py:1180\u001B[0m, in \u001B[0;36mSyncCollectionsApi.create_collection\u001B[1;34m(self, collection_name, timeout, create_collection)\u001B[0m\n\u001B[0;32m   1171\u001B[0m \u001B[38;5;28;01mdef\u001B[39;00m \u001B[38;5;21mcreate_collection\u001B[39m(\n\u001B[0;32m   1172\u001B[0m     \u001B[38;5;28mself\u001B[39m,\n\u001B[0;32m   1173\u001B[0m     collection_name: \u001B[38;5;28mstr\u001B[39m,\n\u001B[0;32m   1174\u001B[0m     timeout: \u001B[38;5;28mint\u001B[39m \u001B[38;5;241m=\u001B[39m \u001B[38;5;28;01mNone\u001B[39;00m,\n\u001B[0;32m   1175\u001B[0m     create_collection: m\u001B[38;5;241m.\u001B[39mCreateCollection \u001B[38;5;241m=\u001B[39m \u001B[38;5;28;01mNone\u001B[39;00m,\n\u001B[0;32m   1176\u001B[0m ) \u001B[38;5;241m-\u001B[39m\u001B[38;5;241m>\u001B[39m m\u001B[38;5;241m.\u001B[39mInlineResponse200:\n\u001B[0;32m   1177\u001B[0m \u001B[38;5;250m    \u001B[39m\u001B[38;5;124;03m\"\"\"\u001B[39;00m\n\u001B[0;32m   1178\u001B[0m \u001B[38;5;124;03m    Create new collection with given parameters\u001B[39;00m\n\u001B[0;32m   1179\u001B[0m \u001B[38;5;124;03m    \"\"\"\u001B[39;00m\n\u001B[1;32m-> 1180\u001B[0m     \u001B[38;5;28;01mreturn\u001B[39;00m \u001B[38;5;28;43mself\u001B[39;49m\u001B[38;5;241;43m.\u001B[39;49m\u001B[43m_build_for_create_collection\u001B[49m\u001B[43m(\u001B[49m\n\u001B[0;32m   1181\u001B[0m \u001B[43m        \u001B[49m\u001B[43mcollection_name\u001B[49m\u001B[38;5;241;43m=\u001B[39;49m\u001B[43mcollection_name\u001B[49m\u001B[43m,\u001B[49m\n\u001B[0;32m   1182\u001B[0m \u001B[43m        \u001B[49m\u001B[43mtimeout\u001B[49m\u001B[38;5;241;43m=\u001B[39;49m\u001B[43mtimeout\u001B[49m\u001B[43m,\u001B[49m\n\u001B[0;32m   1183\u001B[0m \u001B[43m        \u001B[49m\u001B[43mcreate_collection\u001B[49m\u001B[38;5;241;43m=\u001B[39;49m\u001B[43mcreate_collection\u001B[49m\u001B[43m,\u001B[49m\n\u001B[0;32m   1184\u001B[0m \u001B[43m    \u001B[49m\u001B[43m)\u001B[49m\n",
      "File \u001B[1;32m~\\AppData\\Local\\Programs\\Python\\Python39\\lib\\site-packages\\qdrant_client\\http\\api\\collections_api.py:116\u001B[0m, in \u001B[0;36m_CollectionsApi._build_for_create_collection\u001B[1;34m(self, collection_name, timeout, create_collection)\u001B[0m\n\u001B[0;32m    114\u001B[0m \u001B[38;5;28;01mif\u001B[39;00m \u001B[38;5;124m\"\u001B[39m\u001B[38;5;124mContent-Type\u001B[39m\u001B[38;5;124m\"\u001B[39m \u001B[38;5;129;01mnot\u001B[39;00m \u001B[38;5;129;01min\u001B[39;00m headers:\n\u001B[0;32m    115\u001B[0m     headers[\u001B[38;5;124m\"\u001B[39m\u001B[38;5;124mContent-Type\u001B[39m\u001B[38;5;124m\"\u001B[39m] \u001B[38;5;241m=\u001B[39m \u001B[38;5;124m\"\u001B[39m\u001B[38;5;124mapplication/json\u001B[39m\u001B[38;5;124m\"\u001B[39m\n\u001B[1;32m--> 116\u001B[0m \u001B[38;5;28;01mreturn\u001B[39;00m \u001B[38;5;28;43mself\u001B[39;49m\u001B[38;5;241;43m.\u001B[39;49m\u001B[43mapi_client\u001B[49m\u001B[38;5;241;43m.\u001B[39;49m\u001B[43mrequest\u001B[49m\u001B[43m(\u001B[49m\n\u001B[0;32m    117\u001B[0m \u001B[43m    \u001B[49m\u001B[43mtype_\u001B[49m\u001B[38;5;241;43m=\u001B[39;49m\u001B[43mm\u001B[49m\u001B[38;5;241;43m.\u001B[39;49m\u001B[43mInlineResponse200\u001B[49m\u001B[43m,\u001B[49m\n\u001B[0;32m    118\u001B[0m \u001B[43m    \u001B[49m\u001B[43mmethod\u001B[49m\u001B[38;5;241;43m=\u001B[39;49m\u001B[38;5;124;43m\"\u001B[39;49m\u001B[38;5;124;43mPUT\u001B[39;49m\u001B[38;5;124;43m\"\u001B[39;49m\u001B[43m,\u001B[49m\n\u001B[0;32m    119\u001B[0m \u001B[43m    \u001B[49m\u001B[43murl\u001B[49m\u001B[38;5;241;43m=\u001B[39;49m\u001B[38;5;124;43m\"\u001B[39;49m\u001B[38;5;124;43m/collections/\u001B[39;49m\u001B[38;5;132;43;01m{collection_name}\u001B[39;49;00m\u001B[38;5;124;43m\"\u001B[39;49m\u001B[43m,\u001B[49m\n\u001B[0;32m    120\u001B[0m \u001B[43m    \u001B[49m\u001B[43mheaders\u001B[49m\u001B[38;5;241;43m=\u001B[39;49m\u001B[43mheaders\u001B[49m\u001B[43m \u001B[49m\u001B[38;5;28;43;01mif\u001B[39;49;00m\u001B[43m \u001B[49m\u001B[43mheaders\u001B[49m\u001B[43m \u001B[49m\u001B[38;5;28;43;01melse\u001B[39;49;00m\u001B[43m \u001B[49m\u001B[38;5;28;43;01mNone\u001B[39;49;00m\u001B[43m,\u001B[49m\n\u001B[0;32m    121\u001B[0m \u001B[43m    \u001B[49m\u001B[43mpath_params\u001B[49m\u001B[38;5;241;43m=\u001B[39;49m\u001B[43mpath_params\u001B[49m\u001B[43m,\u001B[49m\n\u001B[0;32m    122\u001B[0m \u001B[43m    \u001B[49m\u001B[43mparams\u001B[49m\u001B[38;5;241;43m=\u001B[39;49m\u001B[43mquery_params\u001B[49m\u001B[43m,\u001B[49m\n\u001B[0;32m    123\u001B[0m \u001B[43m    \u001B[49m\u001B[43mcontent\u001B[49m\u001B[38;5;241;43m=\u001B[39;49m\u001B[43mbody\u001B[49m\u001B[43m,\u001B[49m\n\u001B[0;32m    124\u001B[0m \u001B[43m\u001B[49m\u001B[43m)\u001B[49m\n",
      "File \u001B[1;32m~\\AppData\\Local\\Programs\\Python\\Python39\\lib\\site-packages\\qdrant_client\\http\\api_client.py:74\u001B[0m, in \u001B[0;36mApiClient.request\u001B[1;34m(self, type_, method, url, path_params, **kwargs)\u001B[0m\n\u001B[0;32m     72\u001B[0m url \u001B[38;5;241m=\u001B[39m (\u001B[38;5;28mself\u001B[39m\u001B[38;5;241m.\u001B[39mhost \u001B[38;5;129;01mor\u001B[39;00m \u001B[38;5;124m\"\u001B[39m\u001B[38;5;124m\"\u001B[39m) \u001B[38;5;241m+\u001B[39m url\u001B[38;5;241m.\u001B[39mformat(\u001B[38;5;241m*\u001B[39m\u001B[38;5;241m*\u001B[39mpath_params)\n\u001B[0;32m     73\u001B[0m request \u001B[38;5;241m=\u001B[39m \u001B[38;5;28mself\u001B[39m\u001B[38;5;241m.\u001B[39m_client\u001B[38;5;241m.\u001B[39mbuild_request(method, url, \u001B[38;5;241m*\u001B[39m\u001B[38;5;241m*\u001B[39mkwargs)\n\u001B[1;32m---> 74\u001B[0m \u001B[38;5;28;01mreturn\u001B[39;00m \u001B[38;5;28;43mself\u001B[39;49m\u001B[38;5;241;43m.\u001B[39;49m\u001B[43msend\u001B[49m\u001B[43m(\u001B[49m\u001B[43mrequest\u001B[49m\u001B[43m,\u001B[49m\u001B[43m \u001B[49m\u001B[43mtype_\u001B[49m\u001B[43m)\u001B[49m\n",
      "File \u001B[1;32m~\\AppData\\Local\\Programs\\Python\\Python39\\lib\\site-packages\\qdrant_client\\http\\api_client.py:97\u001B[0m, in \u001B[0;36mApiClient.send\u001B[1;34m(self, request, type_)\u001B[0m\n\u001B[0;32m     95\u001B[0m     \u001B[38;5;28;01mexcept\u001B[39;00m ValidationError \u001B[38;5;28;01mas\u001B[39;00m e:\n\u001B[0;32m     96\u001B[0m         \u001B[38;5;28;01mraise\u001B[39;00m ResponseHandlingException(e)\n\u001B[1;32m---> 97\u001B[0m \u001B[38;5;28;01mraise\u001B[39;00m UnexpectedResponse\u001B[38;5;241m.\u001B[39mfor_response(response)\n",
      "\u001B[1;31mUnexpectedResponse\u001B[0m: Unexpected Response: 409 (Conflict)\nRaw response content:\nb'{\"status\":{\"error\":\"Wrong input: Collection `Profile` already exists!\"},\"time\":0.000065542}'"
     ]
    }
   ],
   "execution_count": 3
  },
  {
   "metadata": {
    "ExecuteTime": {
     "end_time": "2024-11-23T02:19:10.251609Z",
     "start_time": "2024-11-23T02:18:46.006106Z"
    }
   },
   "cell_type": "code",
   "source": [
    "from deepface import DeepFace\n",
    "from qdrant_client.models import PointStruct\n",
    "from qdrant_client import QdrantClient\n",
    "\n",
    "# Initialisation du client Qdrant\n",
    "client = QdrantClient(url=\"http://localhost:6333\")\n",
    "\n",
    "\n",
    "def generate_embeddings(img_path: str, model_name: str = \"Facenet512\", detector_backend: str = \"retinaface\"):\n",
    "    \"\"\"\n",
    "    Génère les embeddings à partir d'une image contenant un ou plusieurs visages.\n",
    "\n",
    "    Args:\n",
    "        img_path (str): Chemin vers l'image.\n",
    "        model_name (str): Modèle utilisé pour les embeddings (par défaut : \"Facenet512\").\n",
    "        detector_backend (str): Backend utilisé pour détecter les visages (par défaut : \"retinaface\").\n",
    "\n",
    "    Returns:\n",
    "        list: Liste des embeddings générés pour chaque visage détecté.\n",
    "    \"\"\"\n",
    "    try:\n",
    "        embedding_objs = DeepFace.represent(\n",
    "            img_path=img_path,\n",
    "            model_name=model_name,\n",
    "            detector_backend=detector_backend,\n",
    "            align=True,\n",
    "            enforce_detection=True\n",
    "        )\n",
    "        return [embedding[\"embedding\"] for embedding in embedding_objs]\n",
    "    except Exception as e:\n",
    "        print(f\"Erreur lors de la génération des embeddings pour {img_path} : {e}\")\n",
    "        return []\n",
    "\n",
    "\n",
    "def add_profile_to_qdrant(collection_name: str, embedding: list, profile_id: int, name: str, surname: str):\n",
    "    \"\"\"\n",
    "    Ajoute un profil à une collection Qdrant.\n",
    "\n",
    "    Args:\n",
    "        collection_name (str): Nom de la collection.\n",
    "        embedding (list): Vecteur d'embedding du profil.\n",
    "        profile_id (int): Identifiant unique du profil.\n",
    "        name (str): Prénom de l'utilisateur.\n",
    "        surname (str): Nom de famille de l'utilisateur.\n",
    "    \"\"\"\n",
    "    try:\n",
    "        operation_info = client.upsert(\n",
    "            collection_name=collection_name,\n",
    "            wait=True,\n",
    "            points=[\n",
    "                PointStruct(\n",
    "                    id=profile_id,\n",
    "                    vector=embedding,\n",
    "                    payload={\n",
    "                        \"name\": name,\n",
    "                        \"surname\": surname\n",
    "                    },\n",
    "                ),\n",
    "            ]\n",
    "        )\n",
    "        print(f\"Profil ajouté avec succès : {name} {surname} (ID: {profile_id})\")\n",
    "        return operation_info\n",
    "    except Exception as e:\n",
    "        print(f\"Erreur lors de l'ajout du profil {name} {surname} : {e}\")\n",
    "\n",
    "\n",
    "# Liste des profils avec chemins vers les photos\n",
    "profiles = [\n",
    "    {\n",
    "        \"id\": 1,\n",
    "        \"name\": \"Clément\",\n",
    "        \"surname\": \"Tableau\",\n",
    "        \"img_path\": \"./contacts_photos/Clem.jpg\"\n",
    "    },\n",
    "    {\n",
    "        \"id\": 2,\n",
    "        \"name\": \"Jérémy\",\n",
    "        \"surname\": \"Billuart\",\n",
    "        \"img_path\": \"./contacts_photos/Jerem.jpg\"\n",
    "    }, {\n",
    "        \"id\": 3,\n",
    "        \"name\": \"Mathis\",\n",
    "        \"surname\": \"Champagne\",\n",
    "        \"img_path\": \"./contacts_photos/Mathis.jpg\"\n",
    "    }, {\n",
    "        \"id\": 4,\n",
    "        \"name\": \"Romeo\",\n",
    "        \"surname\": \"Correc\",\n",
    "        \"img_path\": \"./contacts_photos/Romeo.jpg\"\n",
    "    }\n",
    "]\n",
    "\n",
    "# Ajout des profils à Qdrant après génération des embeddings\n",
    "collection_name = \"Profile\"\n",
    "for profile in profiles:\n",
    "    embeddings = generate_embeddings(profile[\"img_path\"])\n",
    "    if embeddings:\n",
    "        for i, embedding in enumerate(embeddings):\n",
    "            add_profile_to_qdrant(\n",
    "                collection_name=collection_name,\n",
    "                embedding=embedding,\n",
    "                profile_id=int(f\"{profile['id']}{i}\"),  # ID unique pour chaque visage\n",
    "                name=profile[\"name\"],\n",
    "                surname=profile[\"surname\"]\n",
    "            )\n",
    "    else:\n",
    "        print(f\"Pas d'embeddings générés pour {profile['name']} {profile['surname']}\")"
   ],
   "id": "3c683c726bccbd28",
   "outputs": [
    {
     "name": "stdout",
     "output_type": "stream",
     "text": [
      "Profil ajouté avec succès : Clément Tableau (ID: 10)\n",
      "Profil ajouté avec succès : Jérémy Billuart (ID: 20)\n",
      "Profil ajouté avec succès : Mathis Champagne (ID: 30)\n",
      "Profil ajouté avec succès : Romeo Correc (ID: 40)\n"
     ]
    }
   ],
   "execution_count": 15
  },
  {
   "metadata": {
    "ExecuteTime": {
     "end_time": "2024-11-23T03:26:59.185096Z",
     "start_time": "2024-11-23T03:26:54.210412Z"
    }
   },
   "cell_type": "code",
   "source": [
    "from deepface import DeepFace\n",
    "from qdrant_client.models import Filter\n",
    "from qdrant_client import QdrantClient\n",
    "\n",
    "# Initialisation du client Qdrant\n",
    "client = QdrantClient(url=\"http://localhost:6333\")\n",
    "\n",
    "\n",
    "def generate_embeddings_from_image(img_path: str, model_name: str = \"Facenet512\", detector_backend: str = \"retinaface\"):\n",
    "    \"\"\"\n",
    "    Génère les embeddings pour tous les visages dans une image.\n",
    "\n",
    "    Args:\n",
    "        img_path (str): Chemin vers l'image.\n",
    "        model_name (str): Modèle utilisé pour les embeddings.\n",
    "        detector_backend (str): Backend pour la détection des visages.\n",
    "\n",
    "    Returns:\n",
    "        list: Liste des vecteurs d'embeddings.\n",
    "    \"\"\"\n",
    "    try:\n",
    "        embedding_objs = DeepFace.represent(\n",
    "            img_path=img_path,\n",
    "            model_name=model_name,\n",
    "            detector_backend=detector_backend,\n",
    "            align=True,\n",
    "            enforce_detection=True\n",
    "        )\n",
    "        return [embedding[\"embedding\"] for embedding in embedding_objs]\n",
    "    except Exception as e:\n",
    "        print(f\"Erreur lors de la génération des embeddings pour {img_path} : {e}\")\n",
    "        return []\n",
    "\n",
    "\n",
    "def query_similar_profiles(embedding: list, collection_name: str, limit: int = 3, threshold: float = 0.5):\n",
    "    \"\"\"\n",
    "    Requête dans Qdrant pour trouver les profils les plus similaires à un embedding donné.\n",
    "\n",
    "    Args:\n",
    "        embedding (list): L'embedding pour lequel rechercher des similitudes.\n",
    "        collection_name (str): Nom de la collection dans Qdrant.\n",
    "        limit (int): Nombre maximum de résultats à retourner.\n",
    "        threshold (float): Seuil minimum de similarité.\n",
    "\n",
    "    Returns:\n",
    "        list: Résultats des points similaires au-dessus du seuil.\n",
    "    \"\"\"\n",
    "    try:\n",
    "        hits = client.search(\n",
    "            collection_name=collection_name,\n",
    "            query_vector=embedding,\n",
    "            limit=limit,\n",
    "        )\n",
    "        # Filtrer les résultats en fonction du seuil\n",
    "        filtered_hits = [hit for hit in hits if hit.score >= threshold]\n",
    "        return filtered_hits\n",
    "    except Exception as e:\n",
    "        print(f\"Erreur lors de la requête de recherche : {e}\")\n",
    "        return []\n",
    "\n",
    "\n",
    "def run_face_reco(file_path):\n",
    "    # Générer les embeddings pour l'image contenant potentiellement plusieurs visages\n",
    "    img_path = file_path\n",
    "    embeddings = generate_embeddings_from_image(img_path)\n",
    "    found_names = []\n",
    "    if embeddings:\n",
    "        # Pour chaque embedding détecté dans l'image\n",
    "        for i, embedding in enumerate(embeddings):\n",
    "            print(f\"\\nRecherche pour le visage {i + 1}:\")\n",
    "            results = query_similar_profiles(embedding, collection_name=\"Profile\", threshold=0.5)\n",
    "            if results:\n",
    "                for result in results:\n",
    "                    name = result.payload.get(\"name\", \"Inconnu\")\n",
    "                    found_names.append(name)\n",
    "                    print(f\"Profil similaire trouvé : {result.payload}, score : {result.score}\")\n",
    "            else:\n",
    "                print(\"Aucun résultat au-dessus du seuil.\")\n",
    "    return updated_context\n"
   ],
   "id": "48812d6058467ca8",
   "outputs": [
    {
     "name": "stdout",
     "output_type": "stream",
     "text": [
      "\n",
      "Recherche pour le visage 1:\n",
      "Profil similaire trouvé : {'name': 'Jérémy', 'surname': 'Billuart'}, score : 0.632906\n"
     ]
    }
   ],
   "execution_count": 19
  },
  {
   "metadata": {},
   "cell_type": "markdown",
   "source": "",
   "id": "7379e4ab66ae16c"
  },
  {
   "metadata": {},
   "cell_type": "markdown",
   "source": "# MetaData",
   "id": "9102bb773a7d293d"
  },
  {
   "metadata": {
    "ExecuteTime": {
     "end_time": "2024-11-23T03:42:32.880460Z",
     "start_time": "2024-11-23T03:42:32.760675Z"
    }
   },
   "cell_type": "code",
   "source": [
    "from PIL import Image\n",
    "from PIL.ExifTags import TAGS, GPSTAGS\n",
    "\n",
    "\n",
    "def get_exif_data(image_path):\n",
    "    \"\"\"\n",
    "    Récupère les données EXIF de l'image.\n",
    "    \"\"\"\n",
    "    image = Image.open(image_path)\n",
    "    exif_data = image._getexif()\n",
    "    if exif_data:\n",
    "        return {TAGS.get(tag, tag): value for tag, value in exif_data.items()}\n",
    "    return None\n",
    "\n",
    "\n",
    "def get_geotagging(exif):\n",
    "    \"\"\"\n",
    "    Extrait les informations GPS des données EXIF.\n",
    "    \"\"\"\n",
    "    if 'GPSInfo' in exif:\n",
    "        gps_info = exif['GPSInfo']\n",
    "        geotags = {GPSTAGS.get(t, t): gps_info[t] for t in gps_info}\n",
    "        return geotags\n",
    "    return None\n",
    "\n",
    "\n",
    "def get_decimal_coordinates(geotags):\n",
    "    \"\"\"\n",
    "    Convertit les coordonnées GPS EXIF en décimal.\n",
    "    \"\"\"\n",
    "\n",
    "    def convert_to_degrees(value):\n",
    "        d, m, s = value\n",
    "        return d + (m / 60.0) + (s / 3600.0)\n",
    "\n",
    "    lat = convert_to_degrees(geotags['GPSLatitude'])\n",
    "    lon = convert_to_degrees(geotags['GPSLongitude'])\n",
    "\n",
    "    if geotags['GPSLatitudeRef'] != \"N\":\n",
    "        lat = -lat\n",
    "    if geotags['GPSLongitudeRef'] != \"E\":\n",
    "        lon = -lon\n",
    "\n",
    "    return lat, lon\n",
    "\n",
    "\n",
    "def get_datetime(exif):\n",
    "    \"\"\"\n",
    "    Récupère la date et l'heure des données EXIF.\n",
    "    \"\"\"\n",
    "    if 'DateTime' in exif:\n",
    "        return exif['DateTime']\n",
    "    return None\n",
    "\n",
    "\n",
    "# Exemple d'utilisation\n",
    "image_path = \"photo.jpg\"  # Chemin vers la photo\n",
    "exif_data = get_exif_data(image_path)\n",
    "if exif_data:\n",
    "    # Récupérer et afficher les données DateTime\n",
    "    datetime = get_datetime(exif_data)\n",
    "    if datetime:\n",
    "        print(f\"Date et heure : {datetime}\")\n",
    "    else:\n",
    "        print(\"Aucune information DateTime trouvée dans l'image.\")\n",
    "\n",
    "    # Récupérer et afficher les coordonnées GPS\n",
    "    geotags = get_geotagging(exif_data)\n",
    "    if geotags:\n",
    "        latitude, longitude = get_decimal_coordinates(geotags)\n",
    "        print(f\"Coordonnées GPS : Latitude={latitude}, Longitude={longitude}\")\n",
    "    else:\n",
    "        print(\"Aucune information GPS trouvée dans l'image.\")\n",
    "else:\n",
    "    print(\"Aucune donnée EXIF trouvée.\")"
   ],
   "id": "f55cfab6aec7ddd8",
   "outputs": [
    {
     "name": "stdout",
     "output_type": "stream",
     "text": [
      "Date et heure : 2024:11:22 13:50:12\n",
      "Coordonnées GPS : Latitude=48.87432098361111, Longitude=2.3388557433333337\n"
     ]
    }
   ],
   "execution_count": 20
  },
  {
   "metadata": {},
   "cell_type": "markdown",
   "source": [
    "# Contexte\n",
    "Date et heure : 2024:11:22 13:50:12\n",
    "Coordonnées GPS : Latitude=48.87432098361111, Longitude=2.3388557433333337\n",
    "Recherche pour le visage 1:\n",
    "Profil similaire trouvé : {'name': 'Jérémy', 'surname': 'Billuart'}, score : 0.632906\n",
    "\n",
    "If heure -> La photo a été prise ...\n",
    "\n",
    "If coordonnées GPS -> La photo a été prise à ...\n",
    "\n",
    "If profil similaire trouvé = 1 -> Une personne est probablement ...\n",
    "\n",
    "If profil similaire trouvé = 2 -> Les personnes sont probablement ..."
   ],
   "id": "c5952898daa2696c"
  },
  {
   "metadata": {},
   "cell_type": "code",
   "outputs": [],
   "execution_count": null,
   "source": [
    "from PIL import Image\n",
    "from PIL.ExifTags import TAGS, GPSTAGS\n",
    "\n",
    "\n",
    "def get_exif_data(image_path):\n",
    "    \"\"\"\n",
    "    Retrieves the EXIF data from the image.\n",
    "    \"\"\"\n",
    "    image = Image.open(image_path)\n",
    "    exif_data = image._getexif()\n",
    "    if exif_data:\n",
    "        return {TAGS.get(tag, tag): value for tag, value in exif_data.items()}\n",
    "    return None\n",
    "\n",
    "\n",
    "def get_geotagging(exif):\n",
    "    \"\"\"\n",
    "    Extracts GPS information from the EXIF data.\n",
    "    \"\"\"\n",
    "    if 'GPSInfo' in exif:\n",
    "        gps_info = exif['GPSInfo']\n",
    "        geotags = {GPSTAGS.get(t, t): gps_info[t] for t in gps_info}\n",
    "        return geotags\n",
    "    return None\n",
    "\n",
    "\n",
    "def get_decimal_coordinates(geotags):\n",
    "    \"\"\"\n",
    "    Converts EXIF GPS coordinates to decimal format.\n",
    "    \"\"\"\n",
    "\n",
    "    def convert_to_degrees(value):\n",
    "        d, m, s = value\n",
    "        return d + (m / 60.0) + (s / 3600.0)\n",
    "\n",
    "    lat = convert_to_degrees(geotags['GPSLatitude'])\n",
    "    lon = convert_to_degrees(geotags['GPSLongitude'])\n",
    "\n",
    "    if geotags['GPSLatitudeRef'] != \"N\":\n",
    "        lat = -lat\n",
    "    if geotags['GPSLongitudeRef'] != \"E\":\n",
    "        lon = -lon\n",
    "\n",
    "    return lat, lon\n",
    "\n",
    "\n",
    "def get_datetime(exif):\n",
    "    \"\"\"\n",
    "    Retrieves the date and time from the EXIF data.\n",
    "    \"\"\"\n",
    "    if 'DateTime' in exif:\n",
    "        return exif['DateTime']\n",
    "    return None\n",
    "\n",
    "\n",
    "# Example usage\n",
    "image_path = \"photo.jpg\"  # Path to the photo\n",
    "exif_data = get_exif_data(image_path)\n",
    "if exif_data:\n",
    "    # Retrieve and display DateTime data\n",
    "    datetime = get_datetime(exif_data)\n",
    "    if datetime:\n",
    "        print(f\"Date and Time: {datetime}\")\n",
    "    else:\n",
    "        print(\"No DateTime information found in the image.\")\n",
    "\n",
    "    # Retrieve and display GPS coordinates\n",
    "    geotags = get_geotagging(exif_data)\n",
    "    if geotags:\n",
    "        latitude, longitude = get_decimal_coordinates(geotags)\n",
    "        print(f\"GPS Coordinates: Latitude={latitude}, Longitude={longitude}\")\n",
    "    else:\n",
    "        print(\"No GPS information found in the image.\")\n",
    "    additional_info = [datetime, latitude, longitude]\n",
    "else:\n",
    "    print(\"Aucune données EXIF trouvée\")\n",
    "    additional_info = None"
   ],
   "id": "deddc933ce39a883"
  },
  {
   "metadata": {},
   "cell_type": "code",
   "outputs": [],
   "execution_count": null,
   "source": [
    "def generate_context_metadata(context, additional_info=None):\n",
    "    \"\"\"\n",
    "    Generates a scene description with additional contextual information.\n",
    "\n",
    "    :param image_description: Basic description of the image.\n",
    "    :param additional_info: Dictionary containing additional contextual information.\n",
    "           - May include 'time', 'gps', 'similar_profile'.\n",
    "    :return: Complete description adapted to the context.\n",
    "    \"\"\"\n",
    "    if additional_info:\n",
    "        if additional_info[0] != \"\":\n",
    "            context += f\" The photo was taken at {additional_info[0]}.\"\n",
    "\n",
    "        if additional_info[1] and additional_info[2] != \"\":\n",
    "            context += f\" The photo was taken at latitude : {additional_info[1]}, longitude : {additional_info[2]}.\"\n",
    "\n",
    "    return context\n",
    "\n",
    "\n",
    "context = \"\"\n",
    "\n",
    "context_full = generate_context_metadata(context, additional_info)\n",
    "print(context_full)"
   ],
   "id": "1221b7da8225903b"
  },
  {
   "metadata": {},
   "cell_type": "code",
   "outputs": [],
   "execution_count": null,
   "source": "",
   "id": "b7ed6a48fa78ddf4"
  }
 ],
 "metadata": {
  "kernelspec": {
   "display_name": "Python 3",
   "language": "python",
   "name": "python3"
  },
  "language_info": {
   "codemirror_mode": {
    "name": "ipython",
    "version": 2
   },
   "file_extension": ".py",
   "mimetype": "text/x-python",
   "name": "python",
   "nbconvert_exporter": "python",
   "pygments_lexer": "ipython2",
   "version": "2.7.6"
  }
 },
 "nbformat": 4,
 "nbformat_minor": 5
}
